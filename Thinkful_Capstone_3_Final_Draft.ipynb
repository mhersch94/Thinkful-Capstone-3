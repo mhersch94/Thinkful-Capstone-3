{
  "nbformat": 4,
  "nbformat_minor": 0,
  "metadata": {
    "colab": {
      "name": "Thinkful Capstone 3 - Final Draft",
      "provenance": [],
      "toc_visible": true,
      "collapsed_sections": []
    },
    "kernelspec": {
      "name": "python3",
      "display_name": "Python 3"
    },
    "language_info": {
      "name": "python"
    }
  },
  "cells": [
    {
      "cell_type": "markdown",
      "source": [
        "\n",
        "# Thinkful Capstone 3 | NYC Seasonal Property Sales Assessment"
      ],
      "metadata": {
        "id": "Cj8ONbahj9F3"
      }
    },
    {
      "cell_type": "markdown",
      "source": [
        "\n",
        "## Introduction\n"
      ],
      "metadata": {
        "id": "yqVLUh5ImlUm"
      }
    },
    {
      "cell_type": "markdown",
      "source": [
        "Anyone who has lived in New York City for a substantial amount of time can attest to the amusing sight that occurs every summer, when New Yorkers can be seen moving flat-screen TVs via bicycles or lugging sectional sofas down into the subways. As temperatures rise, it seems as though half the city is packing up their posessions and luggings them through the streets to a new dwelling.\n",
        "\n",
        "Of course, most of these annual migrants are renters, as approximately 2/3 of all housing units in NYC are renter-occupied. But as of 2017 there were still over 1 million owner-occupied housing units. It stands to reason that property owners should tend to sell property and choose times to move according to the same trends as renters. The warm summer months alleviates the burden of dirty, slush filled streets and frigid wind tunnels, making the moving process easier to manage. If this assumption holds true, then it would follow that there would be more demand for property in the warmer months and that this increased demand would drive prices up. \n",
        "\n",
        "The New York City Department of Finance releases property sales data on a monthly basis for property sales that occured in the previous 12 months across all five boroughs of the city. The data includes technical information about the property as well as the sale price and sale date. This data provides an opportunity to examine how sale prices fluctuate depending on the time of year.\n",
        "\n",
        "In the following analysis I will use a second-hand copy of the NYC Department of Finance's property sales data to look at a single 12 month period and determine if sale prices are, in fact, higher during warmer months in each of the five boroughs."
      ],
      "metadata": {
        "id": "Sw9f2EP8moT-"
      }
    },
    {
      "cell_type": "markdown",
      "source": [
        "\n",
        "## The Data Set\n"
      ],
      "metadata": {
        "id": "9Ma9nM-Iqti4"
      }
    },
    {
      "cell_type": "markdown",
      "source": [
        "I discovered this data set on [Kaggle](https://www.kaggle.com/new-york-city/nyc-property-sales) but it originally comes from the NYC Department of Finance's [Rolling Sales Data](https://www1.nyc.gov/site/finance/taxes/property-rolling-sales-data.page). The columns in the data set that will be of interest for this analysis are as follows:\n",
        "<br></br>\n",
        "- **Borough**: The borough the property is located in.\n",
        "  - 1 = Manhattan\n",
        "  - 2 = Bronx\n",
        "  - 3 = Brooklyn\n",
        "  - 4 = Queens\n",
        "  - 5 = Staten Island\n",
        "- **Gross Square Feet**: Total area of all the floors of a building as measured from the exterior surfaces of the outside walls of the building, including the land area and space within any building or structure on the property.\n",
        "- **Sale Price**: Price paid for the property.\n",
        "- **Sale Date**: Date the property sold.\n",
        "<br></br>\n",
        "For full column descriptions the DOF website also provides a [Glossary of Terms](https://www1.nyc.gov/assets/finance/downloads/pdf/07pdf/glossary_rsf071607.pdf) for their property sales files."
      ],
      "metadata": {
        "id": "AVW5Ls28q9zf"
      }
    },
    {
      "cell_type": "markdown",
      "source": [
        "\n",
        "## Preparing the Data\n"
      ],
      "metadata": {
        "id": "3Vq_3MR56_Dp"
      }
    },
    {
      "cell_type": "markdown",
      "source": [
        "\n",
        "### Importing\n"
      ],
      "metadata": {
        "id": "Faup7EUJFoFU"
      }
    },
    {
      "cell_type": "markdown",
      "source": [
        "First we will import all the necessary libraries, mount my Google Drive, and load the initial CSV file into a Pandas DataFrame."
      ],
      "metadata": {
        "id": "ndvKEdgn7Eoh"
      }
    },
    {
      "cell_type": "code",
      "source": [
        "import pandas as pd\n",
        "from scipy import stats\n",
        "from matplotlib import pyplot as plt\n",
        "import seaborn as sns\n",
        "import math"
      ],
      "metadata": {
        "id": "Li4u9rG_8vWC"
      },
      "execution_count": null,
      "outputs": []
    },
    {
      "cell_type": "code",
      "source": [
        "from google.colab import drive\n",
        "drive.mount('/content/drive')"
      ],
      "metadata": {
        "colab": {
          "base_uri": "https://localhost:8080/"
        },
        "id": "-GOUJhBt9SbO",
        "outputId": "aba06001-3570-4d6d-f73b-8b160fa8e3ff"
      },
      "execution_count": null,
      "outputs": [
        {
          "output_type": "stream",
          "name": "stdout",
          "text": [
            "Mounted at /content/drive\n"
          ]
        }
      ]
    },
    {
      "cell_type": "code",
      "source": [
        "sales_df = pd.read_csv('/content/drive/My Drive/nyc-rolling-sales.csv')"
      ],
      "metadata": {
        "id": "4sdbqaKQ-dia"
      },
      "execution_count": null,
      "outputs": []
    },
    {
      "cell_type": "markdown",
      "source": [
        "\n",
        "### First Look\n"
      ],
      "metadata": {
        "id": "bR1ioS5jFtYb"
      }
    },
    {
      "cell_type": "markdown",
      "source": [
        "Now we can take a first look at our DataFrame."
      ],
      "metadata": {
        "id": "MZCahUSE_dgb"
      }
    },
    {
      "cell_type": "code",
      "source": [
        "sales_df.info()"
      ],
      "metadata": {
        "colab": {
          "base_uri": "https://localhost:8080/"
        },
        "id": "FzPI1yjKAXSK",
        "outputId": "e365de0f-e2a7-4ec5-d8a6-39f879a2135b"
      },
      "execution_count": null,
      "outputs": [
        {
          "output_type": "stream",
          "name": "stdout",
          "text": [
            "<class 'pandas.core.frame.DataFrame'>\n",
            "RangeIndex: 84548 entries, 0 to 84547\n",
            "Data columns (total 22 columns):\n",
            " #   Column                          Non-Null Count  Dtype \n",
            "---  ------                          --------------  ----- \n",
            " 0   Unnamed: 0                      84548 non-null  int64 \n",
            " 1   BOROUGH                         84548 non-null  int64 \n",
            " 2   NEIGHBORHOOD                    84548 non-null  object\n",
            " 3   BUILDING CLASS CATEGORY         84548 non-null  object\n",
            " 4   TAX CLASS AT PRESENT            84548 non-null  object\n",
            " 5   BLOCK                           84548 non-null  int64 \n",
            " 6   LOT                             84548 non-null  int64 \n",
            " 7   EASE-MENT                       84548 non-null  object\n",
            " 8   BUILDING CLASS AT PRESENT       84548 non-null  object\n",
            " 9   ADDRESS                         84548 non-null  object\n",
            " 10  APARTMENT NUMBER                84548 non-null  object\n",
            " 11  ZIP CODE                        84548 non-null  int64 \n",
            " 12  RESIDENTIAL UNITS               84548 non-null  int64 \n",
            " 13  COMMERCIAL UNITS                84548 non-null  int64 \n",
            " 14  TOTAL UNITS                     84548 non-null  int64 \n",
            " 15  LAND SQUARE FEET                84548 non-null  object\n",
            " 16  GROSS SQUARE FEET               84548 non-null  object\n",
            " 17  YEAR BUILT                      84548 non-null  int64 \n",
            " 18  TAX CLASS AT TIME OF SALE       84548 non-null  int64 \n",
            " 19  BUILDING CLASS AT TIME OF SALE  84548 non-null  object\n",
            " 20  SALE PRICE                      84548 non-null  object\n",
            " 21  SALE DATE                       84548 non-null  object\n",
            "dtypes: int64(10), object(12)\n",
            "memory usage: 14.2+ MB\n"
          ]
        }
      ]
    },
    {
      "cell_type": "markdown",
      "source": [
        "It looks like our inital DataFrame contains 22 columns and 84,548 rows. The columns contain both numeric and string data types and it appears as though there are no null values. The four columns we will be interested in are the *Borough*, *Gross Square Feet*, *Sale Price*, and *Sale Date* columns. Lets take a quick look at some of the entries to get a better sense of the data."
      ],
      "metadata": {
        "id": "ztUcNg7RAcyL"
      }
    },
    {
      "cell_type": "code",
      "source": [
        "sales_df.head()"
      ],
      "metadata": {
        "colab": {
          "base_uri": "https://localhost:8080/",
          "height": 504
        },
        "id": "aq1mk8DuCwwL",
        "outputId": "ace0fed1-79d4-40f2-ad43-7828c3557664"
      },
      "execution_count": null,
      "outputs": [
        {
          "output_type": "execute_result",
          "data": {
            "text/html": [
              "\n",
              "  <div id=\"df-8815f2e7-a4be-49a0-b320-c6a664590e54\">\n",
              "    <div class=\"colab-df-container\">\n",
              "      <div>\n",
              "<style scoped>\n",
              "    .dataframe tbody tr th:only-of-type {\n",
              "        vertical-align: middle;\n",
              "    }\n",
              "\n",
              "    .dataframe tbody tr th {\n",
              "        vertical-align: top;\n",
              "    }\n",
              "\n",
              "    .dataframe thead th {\n",
              "        text-align: right;\n",
              "    }\n",
              "</style>\n",
              "<table border=\"1\" class=\"dataframe\">\n",
              "  <thead>\n",
              "    <tr style=\"text-align: right;\">\n",
              "      <th></th>\n",
              "      <th>Unnamed: 0</th>\n",
              "      <th>BOROUGH</th>\n",
              "      <th>NEIGHBORHOOD</th>\n",
              "      <th>BUILDING CLASS CATEGORY</th>\n",
              "      <th>TAX CLASS AT PRESENT</th>\n",
              "      <th>BLOCK</th>\n",
              "      <th>LOT</th>\n",
              "      <th>EASE-MENT</th>\n",
              "      <th>BUILDING CLASS AT PRESENT</th>\n",
              "      <th>ADDRESS</th>\n",
              "      <th>...</th>\n",
              "      <th>RESIDENTIAL UNITS</th>\n",
              "      <th>COMMERCIAL UNITS</th>\n",
              "      <th>TOTAL UNITS</th>\n",
              "      <th>LAND SQUARE FEET</th>\n",
              "      <th>GROSS SQUARE FEET</th>\n",
              "      <th>YEAR BUILT</th>\n",
              "      <th>TAX CLASS AT TIME OF SALE</th>\n",
              "      <th>BUILDING CLASS AT TIME OF SALE</th>\n",
              "      <th>SALE PRICE</th>\n",
              "      <th>SALE DATE</th>\n",
              "    </tr>\n",
              "  </thead>\n",
              "  <tbody>\n",
              "    <tr>\n",
              "      <th>0</th>\n",
              "      <td>4</td>\n",
              "      <td>1</td>\n",
              "      <td>ALPHABET CITY</td>\n",
              "      <td>07 RENTALS - WALKUP APARTMENTS</td>\n",
              "      <td>2A</td>\n",
              "      <td>392</td>\n",
              "      <td>6</td>\n",
              "      <td></td>\n",
              "      <td>C2</td>\n",
              "      <td>153 AVENUE B</td>\n",
              "      <td>...</td>\n",
              "      <td>5</td>\n",
              "      <td>0</td>\n",
              "      <td>5</td>\n",
              "      <td>1633</td>\n",
              "      <td>6440</td>\n",
              "      <td>1900</td>\n",
              "      <td>2</td>\n",
              "      <td>C2</td>\n",
              "      <td>6625000</td>\n",
              "      <td>2017-07-19 00:00:00</td>\n",
              "    </tr>\n",
              "    <tr>\n",
              "      <th>1</th>\n",
              "      <td>5</td>\n",
              "      <td>1</td>\n",
              "      <td>ALPHABET CITY</td>\n",
              "      <td>07 RENTALS - WALKUP APARTMENTS</td>\n",
              "      <td>2</td>\n",
              "      <td>399</td>\n",
              "      <td>26</td>\n",
              "      <td></td>\n",
              "      <td>C7</td>\n",
              "      <td>234 EAST 4TH   STREET</td>\n",
              "      <td>...</td>\n",
              "      <td>28</td>\n",
              "      <td>3</td>\n",
              "      <td>31</td>\n",
              "      <td>4616</td>\n",
              "      <td>18690</td>\n",
              "      <td>1900</td>\n",
              "      <td>2</td>\n",
              "      <td>C7</td>\n",
              "      <td>-</td>\n",
              "      <td>2016-12-14 00:00:00</td>\n",
              "    </tr>\n",
              "    <tr>\n",
              "      <th>2</th>\n",
              "      <td>6</td>\n",
              "      <td>1</td>\n",
              "      <td>ALPHABET CITY</td>\n",
              "      <td>07 RENTALS - WALKUP APARTMENTS</td>\n",
              "      <td>2</td>\n",
              "      <td>399</td>\n",
              "      <td>39</td>\n",
              "      <td></td>\n",
              "      <td>C7</td>\n",
              "      <td>197 EAST 3RD   STREET</td>\n",
              "      <td>...</td>\n",
              "      <td>16</td>\n",
              "      <td>1</td>\n",
              "      <td>17</td>\n",
              "      <td>2212</td>\n",
              "      <td>7803</td>\n",
              "      <td>1900</td>\n",
              "      <td>2</td>\n",
              "      <td>C7</td>\n",
              "      <td>-</td>\n",
              "      <td>2016-12-09 00:00:00</td>\n",
              "    </tr>\n",
              "    <tr>\n",
              "      <th>3</th>\n",
              "      <td>7</td>\n",
              "      <td>1</td>\n",
              "      <td>ALPHABET CITY</td>\n",
              "      <td>07 RENTALS - WALKUP APARTMENTS</td>\n",
              "      <td>2B</td>\n",
              "      <td>402</td>\n",
              "      <td>21</td>\n",
              "      <td></td>\n",
              "      <td>C4</td>\n",
              "      <td>154 EAST 7TH STREET</td>\n",
              "      <td>...</td>\n",
              "      <td>10</td>\n",
              "      <td>0</td>\n",
              "      <td>10</td>\n",
              "      <td>2272</td>\n",
              "      <td>6794</td>\n",
              "      <td>1913</td>\n",
              "      <td>2</td>\n",
              "      <td>C4</td>\n",
              "      <td>3936272</td>\n",
              "      <td>2016-09-23 00:00:00</td>\n",
              "    </tr>\n",
              "    <tr>\n",
              "      <th>4</th>\n",
              "      <td>8</td>\n",
              "      <td>1</td>\n",
              "      <td>ALPHABET CITY</td>\n",
              "      <td>07 RENTALS - WALKUP APARTMENTS</td>\n",
              "      <td>2A</td>\n",
              "      <td>404</td>\n",
              "      <td>55</td>\n",
              "      <td></td>\n",
              "      <td>C2</td>\n",
              "      <td>301 EAST 10TH   STREET</td>\n",
              "      <td>...</td>\n",
              "      <td>6</td>\n",
              "      <td>0</td>\n",
              "      <td>6</td>\n",
              "      <td>2369</td>\n",
              "      <td>4615</td>\n",
              "      <td>1900</td>\n",
              "      <td>2</td>\n",
              "      <td>C2</td>\n",
              "      <td>8000000</td>\n",
              "      <td>2016-11-17 00:00:00</td>\n",
              "    </tr>\n",
              "  </tbody>\n",
              "</table>\n",
              "<p>5 rows × 22 columns</p>\n",
              "</div>\n",
              "      <button class=\"colab-df-convert\" onclick=\"convertToInteractive('df-8815f2e7-a4be-49a0-b320-c6a664590e54')\"\n",
              "              title=\"Convert this dataframe to an interactive table.\"\n",
              "              style=\"display:none;\">\n",
              "        \n",
              "  <svg xmlns=\"http://www.w3.org/2000/svg\" height=\"24px\"viewBox=\"0 0 24 24\"\n",
              "       width=\"24px\">\n",
              "    <path d=\"M0 0h24v24H0V0z\" fill=\"none\"/>\n",
              "    <path d=\"M18.56 5.44l.94 2.06.94-2.06 2.06-.94-2.06-.94-.94-2.06-.94 2.06-2.06.94zm-11 1L8.5 8.5l.94-2.06 2.06-.94-2.06-.94L8.5 2.5l-.94 2.06-2.06.94zm10 10l.94 2.06.94-2.06 2.06-.94-2.06-.94-.94-2.06-.94 2.06-2.06.94z\"/><path d=\"M17.41 7.96l-1.37-1.37c-.4-.4-.92-.59-1.43-.59-.52 0-1.04.2-1.43.59L10.3 9.45l-7.72 7.72c-.78.78-.78 2.05 0 2.83L4 21.41c.39.39.9.59 1.41.59.51 0 1.02-.2 1.41-.59l7.78-7.78 2.81-2.81c.8-.78.8-2.07 0-2.86zM5.41 20L4 18.59l7.72-7.72 1.47 1.35L5.41 20z\"/>\n",
              "  </svg>\n",
              "      </button>\n",
              "      \n",
              "  <style>\n",
              "    .colab-df-container {\n",
              "      display:flex;\n",
              "      flex-wrap:wrap;\n",
              "      gap: 12px;\n",
              "    }\n",
              "\n",
              "    .colab-df-convert {\n",
              "      background-color: #E8F0FE;\n",
              "      border: none;\n",
              "      border-radius: 50%;\n",
              "      cursor: pointer;\n",
              "      display: none;\n",
              "      fill: #1967D2;\n",
              "      height: 32px;\n",
              "      padding: 0 0 0 0;\n",
              "      width: 32px;\n",
              "    }\n",
              "\n",
              "    .colab-df-convert:hover {\n",
              "      background-color: #E2EBFA;\n",
              "      box-shadow: 0px 1px 2px rgba(60, 64, 67, 0.3), 0px 1px 3px 1px rgba(60, 64, 67, 0.15);\n",
              "      fill: #174EA6;\n",
              "    }\n",
              "\n",
              "    [theme=dark] .colab-df-convert {\n",
              "      background-color: #3B4455;\n",
              "      fill: #D2E3FC;\n",
              "    }\n",
              "\n",
              "    [theme=dark] .colab-df-convert:hover {\n",
              "      background-color: #434B5C;\n",
              "      box-shadow: 0px 1px 3px 1px rgba(0, 0, 0, 0.15);\n",
              "      filter: drop-shadow(0px 1px 2px rgba(0, 0, 0, 0.3));\n",
              "      fill: #FFFFFF;\n",
              "    }\n",
              "  </style>\n",
              "\n",
              "      <script>\n",
              "        const buttonEl =\n",
              "          document.querySelector('#df-8815f2e7-a4be-49a0-b320-c6a664590e54 button.colab-df-convert');\n",
              "        buttonEl.style.display =\n",
              "          google.colab.kernel.accessAllowed ? 'block' : 'none';\n",
              "\n",
              "        async function convertToInteractive(key) {\n",
              "          const element = document.querySelector('#df-8815f2e7-a4be-49a0-b320-c6a664590e54');\n",
              "          const dataTable =\n",
              "            await google.colab.kernel.invokeFunction('convertToInteractive',\n",
              "                                                     [key], {});\n",
              "          if (!dataTable) return;\n",
              "\n",
              "          const docLinkHtml = 'Like what you see? Visit the ' +\n",
              "            '<a target=\"_blank\" href=https://colab.research.google.com/notebooks/data_table.ipynb>data table notebook</a>'\n",
              "            + ' to learn more about interactive tables.';\n",
              "          element.innerHTML = '';\n",
              "          dataTable['output_type'] = 'display_data';\n",
              "          await google.colab.output.renderOutput(dataTable, element);\n",
              "          const docLink = document.createElement('div');\n",
              "          docLink.innerHTML = docLinkHtml;\n",
              "          element.appendChild(docLink);\n",
              "        }\n",
              "      </script>\n",
              "    </div>\n",
              "  </div>\n",
              "  "
            ],
            "text/plain": [
              "   Unnamed: 0  BOROUGH   NEIGHBORHOOD  \\\n",
              "0           4        1  ALPHABET CITY   \n",
              "1           5        1  ALPHABET CITY   \n",
              "2           6        1  ALPHABET CITY   \n",
              "3           7        1  ALPHABET CITY   \n",
              "4           8        1  ALPHABET CITY   \n",
              "\n",
              "                       BUILDING CLASS CATEGORY TAX CLASS AT PRESENT  BLOCK  \\\n",
              "0  07 RENTALS - WALKUP APARTMENTS                                2A    392   \n",
              "1  07 RENTALS - WALKUP APARTMENTS                                 2    399   \n",
              "2  07 RENTALS - WALKUP APARTMENTS                                 2    399   \n",
              "3  07 RENTALS - WALKUP APARTMENTS                                2B    402   \n",
              "4  07 RENTALS - WALKUP APARTMENTS                                2A    404   \n",
              "\n",
              "   LOT EASE-MENT BUILDING CLASS AT PRESENT                 ADDRESS  ...  \\\n",
              "0    6                                  C2            153 AVENUE B  ...   \n",
              "1   26                                  C7   234 EAST 4TH   STREET  ...   \n",
              "2   39                                  C7   197 EAST 3RD   STREET  ...   \n",
              "3   21                                  C4     154 EAST 7TH STREET  ...   \n",
              "4   55                                  C2  301 EAST 10TH   STREET  ...   \n",
              "\n",
              "  RESIDENTIAL UNITS  COMMERCIAL UNITS  TOTAL UNITS  LAND SQUARE FEET  \\\n",
              "0                 5                 0            5              1633   \n",
              "1                28                 3           31              4616   \n",
              "2                16                 1           17              2212   \n",
              "3                10                 0           10              2272   \n",
              "4                 6                 0            6              2369   \n",
              "\n",
              "   GROSS SQUARE FEET YEAR BUILT TAX CLASS AT TIME OF SALE  \\\n",
              "0               6440       1900                         2   \n",
              "1              18690       1900                         2   \n",
              "2               7803       1900                         2   \n",
              "3               6794       1913                         2   \n",
              "4               4615       1900                         2   \n",
              "\n",
              "   BUILDING CLASS AT TIME OF SALE  SALE PRICE            SALE DATE  \n",
              "0                              C2     6625000  2017-07-19 00:00:00  \n",
              "1                              C7         -    2016-12-14 00:00:00  \n",
              "2                              C7         -    2016-12-09 00:00:00  \n",
              "3                              C4     3936272  2016-09-23 00:00:00  \n",
              "4                              C2     8000000  2016-11-17 00:00:00  \n",
              "\n",
              "[5 rows x 22 columns]"
            ]
          },
          "metadata": {},
          "execution_count": 5
        }
      ]
    },
    {
      "cell_type": "markdown",
      "source": [
        "There are a few things to note here:\n",
        "<br></br>\n",
        "1. The first column looks like it's just an index that carried over from Excel. This column should be removed.\n",
        "<br></br>\n",
        "2. The *Gross Square Feet*, *Sale Price*, and *Sale Date* columns are all being read as strings. We will need to convert these to numeric and date data types to make use of them.\n",
        "<br></br>\n",
        "3. In the *Sale Price* column we see there are missing entries that are represented by a hyphen rather than a null value. We will need to remove or replace these. There may be additional missing entries in other columns that we will need to check for.\n",
        "\n",
        "<br></br>\n",
        "To get started let's quickly remove that first column."
      ],
      "metadata": {
        "id": "rAh2qfD4DTdb"
      }
    },
    {
      "cell_type": "code",
      "source": [
        "sales_df.drop(columns=sales_df.columns[0], axis=1, inplace=True)\n",
        "sales_df.info()"
      ],
      "metadata": {
        "colab": {
          "base_uri": "https://localhost:8080/"
        },
        "id": "kxVOe8BUGWBs",
        "outputId": "890bc277-1479-4406-b047-20ad8b588170"
      },
      "execution_count": null,
      "outputs": [
        {
          "output_type": "stream",
          "name": "stdout",
          "text": [
            "<class 'pandas.core.frame.DataFrame'>\n",
            "RangeIndex: 84548 entries, 0 to 84547\n",
            "Data columns (total 21 columns):\n",
            " #   Column                          Non-Null Count  Dtype \n",
            "---  ------                          --------------  ----- \n",
            " 0   BOROUGH                         84548 non-null  int64 \n",
            " 1   NEIGHBORHOOD                    84548 non-null  object\n",
            " 2   BUILDING CLASS CATEGORY         84548 non-null  object\n",
            " 3   TAX CLASS AT PRESENT            84548 non-null  object\n",
            " 4   BLOCK                           84548 non-null  int64 \n",
            " 5   LOT                             84548 non-null  int64 \n",
            " 6   EASE-MENT                       84548 non-null  object\n",
            " 7   BUILDING CLASS AT PRESENT       84548 non-null  object\n",
            " 8   ADDRESS                         84548 non-null  object\n",
            " 9   APARTMENT NUMBER                84548 non-null  object\n",
            " 10  ZIP CODE                        84548 non-null  int64 \n",
            " 11  RESIDENTIAL UNITS               84548 non-null  int64 \n",
            " 12  COMMERCIAL UNITS                84548 non-null  int64 \n",
            " 13  TOTAL UNITS                     84548 non-null  int64 \n",
            " 14  LAND SQUARE FEET                84548 non-null  object\n",
            " 15  GROSS SQUARE FEET               84548 non-null  object\n",
            " 16  YEAR BUILT                      84548 non-null  int64 \n",
            " 17  TAX CLASS AT TIME OF SALE       84548 non-null  int64 \n",
            " 18  BUILDING CLASS AT TIME OF SALE  84548 non-null  object\n",
            " 19  SALE PRICE                      84548 non-null  object\n",
            " 20  SALE DATE                       84548 non-null  object\n",
            "dtypes: int64(9), object(12)\n",
            "memory usage: 13.5+ MB\n"
          ]
        }
      ]
    },
    {
      "cell_type": "markdown",
      "source": [
        "Before we alter any data types we will need to check for those missing values since those hyphens will prevent us from converting to numeric values. We will first look at the *Sale Price* column since we know it contains missing values. "
      ],
      "metadata": {
        "id": "TFafWnPDHybL"
      }
    },
    {
      "cell_type": "code",
      "source": [
        "sales_df['SALE PRICE'].describe()"
      ],
      "metadata": {
        "colab": {
          "base_uri": "https://localhost:8080/"
        },
        "id": "Q_bfXkupIWuG",
        "outputId": "a7b52ce4-c1cd-4116-c08d-52cc02145a79"
      },
      "execution_count": null,
      "outputs": [
        {
          "output_type": "execute_result",
          "data": {
            "text/plain": [
              "count     84548\n",
              "unique    10008\n",
              "top         -  \n",
              "freq      14561\n",
              "Name: SALE PRICE, dtype: object"
            ]
          },
          "metadata": {},
          "execution_count": 7
        }
      ]
    },
    {
      "cell_type": "markdown",
      "source": [
        "The most frequent *Sale Price* value is the hyphen and it occurs 14,561 times. Our analysis is going to rely heavily on the sale price so we have no choice but to drop all the rows that are missing a sale price. We will also go ahead and convert the data to numeric values."
      ],
      "metadata": {
        "id": "IU0SMh06JNyE"
      }
    },
    {
      "cell_type": "code",
      "source": [
        "sales_df = sales_df[sales_df['SALE PRICE'].str.contains(\" -  \")==False]"
      ],
      "metadata": {
        "id": "8ymudH5uJsm0"
      },
      "execution_count": null,
      "outputs": []
    },
    {
      "cell_type": "code",
      "source": [
        "sales_df['SALE PRICE'] = pd.to_numeric(sales_df.loc[:, ('SALE PRICE')])"
      ],
      "metadata": {
        "id": "eeNcT02DaJkf"
      },
      "execution_count": null,
      "outputs": []
    },
    {
      "cell_type": "code",
      "source": [
        "sales_df['SALE PRICE'].describe()"
      ],
      "metadata": {
        "colab": {
          "base_uri": "https://localhost:8080/"
        },
        "id": "K7h4tEL8NvQE",
        "outputId": "ead525f8-a6df-4c2f-be52-99875c32a8cc"
      },
      "execution_count": null,
      "outputs": [
        {
          "output_type": "execute_result",
          "data": {
            "text/plain": [
              "count    6.998700e+04\n",
              "mean     1.276456e+06\n",
              "std      1.140526e+07\n",
              "min      0.000000e+00\n",
              "25%      2.250000e+05\n",
              "50%      5.300000e+05\n",
              "75%      9.500000e+05\n",
              "max      2.210000e+09\n",
              "Name: SALE PRICE, dtype: float64"
            ]
          },
          "metadata": {},
          "execution_count": 10
        }
      ]
    },
    {
      "cell_type": "markdown",
      "source": [
        "Next we will look at the *Gross Square Feet* column to check for missing entries."
      ],
      "metadata": {
        "id": "JOo3vohROD3t"
      }
    },
    {
      "cell_type": "code",
      "source": [
        "sales_df['GROSS SQUARE FEET'].describe()"
      ],
      "metadata": {
        "colab": {
          "base_uri": "https://localhost:8080/"
        },
        "id": "rXQYfTa7PqiU",
        "outputId": "cfe7a7da-69ab-441c-eb1d-1c31a4c04cfb"
      },
      "execution_count": null,
      "outputs": [
        {
          "output_type": "execute_result",
          "data": {
            "text/plain": [
              "count     69987\n",
              "unique     5095\n",
              "top         -  \n",
              "freq      21739\n",
              "Name: GROSS SQUARE FEET, dtype: object"
            ]
          },
          "metadata": {},
          "execution_count": 11
        }
      ]
    },
    {
      "cell_type": "markdown",
      "source": [
        "Again we see the *Gross Square Feet* column contains 21,739 missing values. We will remove these as well and then convert the data to numeric values."
      ],
      "metadata": {
        "id": "-nRDxP0EQkV9"
      }
    },
    {
      "cell_type": "code",
      "source": [
        "sales_df = sales_df[sales_df['GROSS SQUARE FEET'].str.contains(\" -  \")==False]"
      ],
      "metadata": {
        "id": "T7R6dZmvRdkx"
      },
      "execution_count": null,
      "outputs": []
    },
    {
      "cell_type": "code",
      "source": [
        "sales_df['GROSS SQUARE FEET'] = pd.to_numeric(sales_df.loc[:, ('GROSS SQUARE FEET')])"
      ],
      "metadata": {
        "id": "5qLBZk1tSZbs"
      },
      "execution_count": null,
      "outputs": []
    },
    {
      "cell_type": "code",
      "source": [
        "sales_df['GROSS SQUARE FEET'].describe()"
      ],
      "metadata": {
        "colab": {
          "base_uri": "https://localhost:8080/"
        },
        "id": "k5GBBDM5cBnZ",
        "outputId": "9b002988-f195-4bed-df12-103ebb5f448b"
      },
      "execution_count": null,
      "outputs": [
        {
          "output_type": "execute_result",
          "data": {
            "text/plain": [
              "count    4.824800e+04\n",
              "mean     3.672552e+03\n",
              "std      2.947540e+04\n",
              "min      0.000000e+00\n",
              "25%      8.280000e+02\n",
              "50%      1.620000e+03\n",
              "75%      2.520000e+03\n",
              "max      3.750565e+06\n",
              "Name: GROSS SQUARE FEET, dtype: float64"
            ]
          },
          "metadata": {},
          "execution_count": 14
        }
      ]
    },
    {
      "cell_type": "markdown",
      "source": [
        "Lastly we can convert the *Sale Date* column to datetime format."
      ],
      "metadata": {
        "id": "VP_52Qo7ckBn"
      }
    },
    {
      "cell_type": "code",
      "source": [
        "sales_df['SALE DATE'] = pd.to_datetime(sales_df.loc[:, ('SALE DATE')])"
      ],
      "metadata": {
        "id": "TuI1PnIKctC7"
      },
      "execution_count": null,
      "outputs": []
    },
    {
      "cell_type": "code",
      "source": [
        "sales_df['SALE DATE'].describe(datetime_is_numeric=True)"
      ],
      "metadata": {
        "colab": {
          "base_uri": "https://localhost:8080/"
        },
        "id": "H_ffwe9pdOI4",
        "outputId": "968d487d-e739-446b-c4fa-9b51c6288fa0"
      },
      "execution_count": null,
      "outputs": [
        {
          "output_type": "execute_result",
          "data": {
            "text/plain": [
              "count                            48248\n",
              "mean     2017-02-25 15:29:16.723594752\n",
              "min                2016-09-01 00:00:00\n",
              "25%                2016-11-29 00:00:00\n",
              "50%                2017-02-27 00:00:00\n",
              "75%                2017-05-26 00:00:00\n",
              "max                2017-08-31 00:00:00\n",
              "Name: SALE DATE, dtype: object"
            ]
          },
          "metadata": {},
          "execution_count": 16
        }
      ]
    },
    {
      "cell_type": "markdown",
      "source": [
        "\n",
        "### Ranges & Outliers"
      ],
      "metadata": {
        "id": "9sM_Tr7YdfW3"
      }
    },
    {
      "cell_type": "markdown",
      "source": [
        "Now that our four columns of interest are all of the correct data types and void of any null or missing values, we can begin taking a closer look at the data in these columns."
      ],
      "metadata": {
        "id": "jeQ-cyOzdyO_"
      }
    },
    {
      "cell_type": "code",
      "source": [
        "sales_df.loc[:, ('GROSS SQUARE FEET', 'SALE PRICE', 'SALE DATE')].describe(datetime_is_numeric=True)"
      ],
      "metadata": {
        "colab": {
          "base_uri": "https://localhost:8080/",
          "height": 300
        },
        "id": "whZXDtGneQcX",
        "outputId": "63cecab2-1126-42b8-9073-3c101e89f535"
      },
      "execution_count": null,
      "outputs": [
        {
          "output_type": "execute_result",
          "data": {
            "text/html": [
              "\n",
              "  <div id=\"df-7d0a657a-480b-483c-9668-7134175fcfb4\">\n",
              "    <div class=\"colab-df-container\">\n",
              "      <div>\n",
              "<style scoped>\n",
              "    .dataframe tbody tr th:only-of-type {\n",
              "        vertical-align: middle;\n",
              "    }\n",
              "\n",
              "    .dataframe tbody tr th {\n",
              "        vertical-align: top;\n",
              "    }\n",
              "\n",
              "    .dataframe thead th {\n",
              "        text-align: right;\n",
              "    }\n",
              "</style>\n",
              "<table border=\"1\" class=\"dataframe\">\n",
              "  <thead>\n",
              "    <tr style=\"text-align: right;\">\n",
              "      <th></th>\n",
              "      <th>GROSS SQUARE FEET</th>\n",
              "      <th>SALE PRICE</th>\n",
              "      <th>SALE DATE</th>\n",
              "    </tr>\n",
              "  </thead>\n",
              "  <tbody>\n",
              "    <tr>\n",
              "      <th>count</th>\n",
              "      <td>4.824800e+04</td>\n",
              "      <td>4.824800e+04</td>\n",
              "      <td>48248</td>\n",
              "    </tr>\n",
              "    <tr>\n",
              "      <th>mean</th>\n",
              "      <td>3.672552e+03</td>\n",
              "      <td>1.155576e+06</td>\n",
              "      <td>2017-02-25 15:29:16.723594752</td>\n",
              "    </tr>\n",
              "    <tr>\n",
              "      <th>min</th>\n",
              "      <td>0.000000e+00</td>\n",
              "      <td>0.000000e+00</td>\n",
              "      <td>2016-09-01 00:00:00</td>\n",
              "    </tr>\n",
              "    <tr>\n",
              "      <th>25%</th>\n",
              "      <td>8.280000e+02</td>\n",
              "      <td>8.056000e+04</td>\n",
              "      <td>2016-11-29 00:00:00</td>\n",
              "    </tr>\n",
              "    <tr>\n",
              "      <th>50%</th>\n",
              "      <td>1.620000e+03</td>\n",
              "      <td>4.800000e+05</td>\n",
              "      <td>2017-02-27 00:00:00</td>\n",
              "    </tr>\n",
              "    <tr>\n",
              "      <th>75%</th>\n",
              "      <td>2.520000e+03</td>\n",
              "      <td>8.300000e+05</td>\n",
              "      <td>2017-05-26 00:00:00</td>\n",
              "    </tr>\n",
              "    <tr>\n",
              "      <th>max</th>\n",
              "      <td>3.750565e+06</td>\n",
              "      <td>2.210000e+09</td>\n",
              "      <td>2017-08-31 00:00:00</td>\n",
              "    </tr>\n",
              "    <tr>\n",
              "      <th>std</th>\n",
              "      <td>2.947540e+04</td>\n",
              "      <td>1.340423e+07</td>\n",
              "      <td>NaN</td>\n",
              "    </tr>\n",
              "  </tbody>\n",
              "</table>\n",
              "</div>\n",
              "      <button class=\"colab-df-convert\" onclick=\"convertToInteractive('df-7d0a657a-480b-483c-9668-7134175fcfb4')\"\n",
              "              title=\"Convert this dataframe to an interactive table.\"\n",
              "              style=\"display:none;\">\n",
              "        \n",
              "  <svg xmlns=\"http://www.w3.org/2000/svg\" height=\"24px\"viewBox=\"0 0 24 24\"\n",
              "       width=\"24px\">\n",
              "    <path d=\"M0 0h24v24H0V0z\" fill=\"none\"/>\n",
              "    <path d=\"M18.56 5.44l.94 2.06.94-2.06 2.06-.94-2.06-.94-.94-2.06-.94 2.06-2.06.94zm-11 1L8.5 8.5l.94-2.06 2.06-.94-2.06-.94L8.5 2.5l-.94 2.06-2.06.94zm10 10l.94 2.06.94-2.06 2.06-.94-2.06-.94-.94-2.06-.94 2.06-2.06.94z\"/><path d=\"M17.41 7.96l-1.37-1.37c-.4-.4-.92-.59-1.43-.59-.52 0-1.04.2-1.43.59L10.3 9.45l-7.72 7.72c-.78.78-.78 2.05 0 2.83L4 21.41c.39.39.9.59 1.41.59.51 0 1.02-.2 1.41-.59l7.78-7.78 2.81-2.81c.8-.78.8-2.07 0-2.86zM5.41 20L4 18.59l7.72-7.72 1.47 1.35L5.41 20z\"/>\n",
              "  </svg>\n",
              "      </button>\n",
              "      \n",
              "  <style>\n",
              "    .colab-df-container {\n",
              "      display:flex;\n",
              "      flex-wrap:wrap;\n",
              "      gap: 12px;\n",
              "    }\n",
              "\n",
              "    .colab-df-convert {\n",
              "      background-color: #E8F0FE;\n",
              "      border: none;\n",
              "      border-radius: 50%;\n",
              "      cursor: pointer;\n",
              "      display: none;\n",
              "      fill: #1967D2;\n",
              "      height: 32px;\n",
              "      padding: 0 0 0 0;\n",
              "      width: 32px;\n",
              "    }\n",
              "\n",
              "    .colab-df-convert:hover {\n",
              "      background-color: #E2EBFA;\n",
              "      box-shadow: 0px 1px 2px rgba(60, 64, 67, 0.3), 0px 1px 3px 1px rgba(60, 64, 67, 0.15);\n",
              "      fill: #174EA6;\n",
              "    }\n",
              "\n",
              "    [theme=dark] .colab-df-convert {\n",
              "      background-color: #3B4455;\n",
              "      fill: #D2E3FC;\n",
              "    }\n",
              "\n",
              "    [theme=dark] .colab-df-convert:hover {\n",
              "      background-color: #434B5C;\n",
              "      box-shadow: 0px 1px 3px 1px rgba(0, 0, 0, 0.15);\n",
              "      filter: drop-shadow(0px 1px 2px rgba(0, 0, 0, 0.3));\n",
              "      fill: #FFFFFF;\n",
              "    }\n",
              "  </style>\n",
              "\n",
              "      <script>\n",
              "        const buttonEl =\n",
              "          document.querySelector('#df-7d0a657a-480b-483c-9668-7134175fcfb4 button.colab-df-convert');\n",
              "        buttonEl.style.display =\n",
              "          google.colab.kernel.accessAllowed ? 'block' : 'none';\n",
              "\n",
              "        async function convertToInteractive(key) {\n",
              "          const element = document.querySelector('#df-7d0a657a-480b-483c-9668-7134175fcfb4');\n",
              "          const dataTable =\n",
              "            await google.colab.kernel.invokeFunction('convertToInteractive',\n",
              "                                                     [key], {});\n",
              "          if (!dataTable) return;\n",
              "\n",
              "          const docLinkHtml = 'Like what you see? Visit the ' +\n",
              "            '<a target=\"_blank\" href=https://colab.research.google.com/notebooks/data_table.ipynb>data table notebook</a>'\n",
              "            + ' to learn more about interactive tables.';\n",
              "          element.innerHTML = '';\n",
              "          dataTable['output_type'] = 'display_data';\n",
              "          await google.colab.output.renderOutput(dataTable, element);\n",
              "          const docLink = document.createElement('div');\n",
              "          docLink.innerHTML = docLinkHtml;\n",
              "          element.appendChild(docLink);\n",
              "        }\n",
              "      </script>\n",
              "    </div>\n",
              "  </div>\n",
              "  "
            ],
            "text/plain": [
              "       GROSS SQUARE FEET    SALE PRICE                      SALE DATE\n",
              "count       4.824800e+04  4.824800e+04                          48248\n",
              "mean        3.672552e+03  1.155576e+06  2017-02-25 15:29:16.723594752\n",
              "min         0.000000e+00  0.000000e+00            2016-09-01 00:00:00\n",
              "25%         8.280000e+02  8.056000e+04            2016-11-29 00:00:00\n",
              "50%         1.620000e+03  4.800000e+05            2017-02-27 00:00:00\n",
              "75%         2.520000e+03  8.300000e+05            2017-05-26 00:00:00\n",
              "max         3.750565e+06  2.210000e+09            2017-08-31 00:00:00\n",
              "std         2.947540e+04  1.340423e+07                            NaN"
            ]
          },
          "metadata": {},
          "execution_count": 17
        }
      ]
    },
    {
      "cell_type": "markdown",
      "source": [
        "What immediately stands out here is the minimum value in the *Gross Square Feet* and *Sale Price* columns. \n",
        "<br></br>\n",
        "Many property sales occur with a nonsensically small dollar amount, or often $0. These are actually transfers of deeds between parties, such as a parent transfering ownership to their children. We can start addressing these by removing any entries with a sale price of \\$0.\n",
        "<br></br>\n",
        "Interestingly, there are also entries that are entered as 0 square feet. I'm unsure of the reason for this, but we will go ahead and remove these entries as well.\n",
        "\n"
      ],
      "metadata": {
        "id": "KHlJQIkffSsA"
      }
    },
    {
      "cell_type": "code",
      "source": [
        "sales_df = sales_df[sales_df['SALE PRICE'] != 0]\n",
        "sales_df = sales_df[sales_df['GROSS SQUARE FEET'] != 0]"
      ],
      "metadata": {
        "id": "eFrWm5RglOXN"
      },
      "execution_count": null,
      "outputs": []
    },
    {
      "cell_type": "code",
      "source": [
        "sales_df.loc[:, ('GROSS SQUARE FEET', 'SALE PRICE', 'SALE DATE')].describe(datetime_is_numeric=True)"
      ],
      "metadata": {
        "colab": {
          "base_uri": "https://localhost:8080/",
          "height": 300
        },
        "id": "Sk-himSOhjLY",
        "outputId": "f5d572bb-76cc-4561-8542-c81d3b3607c4"
      },
      "execution_count": null,
      "outputs": [
        {
          "output_type": "execute_result",
          "data": {
            "text/html": [
              "\n",
              "  <div id=\"df-b79cdae8-5b72-42d8-bf3d-a102ff5218f7\">\n",
              "    <div class=\"colab-df-container\">\n",
              "      <div>\n",
              "<style scoped>\n",
              "    .dataframe tbody tr th:only-of-type {\n",
              "        vertical-align: middle;\n",
              "    }\n",
              "\n",
              "    .dataframe tbody tr th {\n",
              "        vertical-align: top;\n",
              "    }\n",
              "\n",
              "    .dataframe thead th {\n",
              "        text-align: right;\n",
              "    }\n",
              "</style>\n",
              "<table border=\"1\" class=\"dataframe\">\n",
              "  <thead>\n",
              "    <tr style=\"text-align: right;\">\n",
              "      <th></th>\n",
              "      <th>GROSS SQUARE FEET</th>\n",
              "      <th>SALE PRICE</th>\n",
              "      <th>SALE DATE</th>\n",
              "    </tr>\n",
              "  </thead>\n",
              "  <tbody>\n",
              "    <tr>\n",
              "      <th>count</th>\n",
              "      <td>2.933400e+04</td>\n",
              "      <td>2.933400e+04</td>\n",
              "      <td>29334</td>\n",
              "    </tr>\n",
              "    <tr>\n",
              "      <th>mean</th>\n",
              "      <td>4.632911e+03</td>\n",
              "      <td>1.642829e+06</td>\n",
              "      <td>2017-02-25 08:10:00.859071232</td>\n",
              "    </tr>\n",
              "    <tr>\n",
              "      <th>min</th>\n",
              "      <td>1.200000e+02</td>\n",
              "      <td>1.000000e+00</td>\n",
              "      <td>2016-09-01 00:00:00</td>\n",
              "    </tr>\n",
              "    <tr>\n",
              "      <th>25%</th>\n",
              "      <td>1.361250e+03</td>\n",
              "      <td>4.200000e+05</td>\n",
              "      <td>2016-11-29 00:00:00</td>\n",
              "    </tr>\n",
              "    <tr>\n",
              "      <th>50%</th>\n",
              "      <td>1.874000e+03</td>\n",
              "      <td>6.200000e+05</td>\n",
              "      <td>2017-02-24 12:00:00</td>\n",
              "    </tr>\n",
              "    <tr>\n",
              "      <th>75%</th>\n",
              "      <td>2.680000e+03</td>\n",
              "      <td>9.500000e+05</td>\n",
              "      <td>2017-05-26 00:00:00</td>\n",
              "    </tr>\n",
              "    <tr>\n",
              "      <th>max</th>\n",
              "      <td>3.750565e+06</td>\n",
              "      <td>2.210000e+09</td>\n",
              "      <td>2017-08-31 00:00:00</td>\n",
              "    </tr>\n",
              "    <tr>\n",
              "      <th>std</th>\n",
              "      <td>3.417342e+04</td>\n",
              "      <td>1.699835e+07</td>\n",
              "      <td>NaN</td>\n",
              "    </tr>\n",
              "  </tbody>\n",
              "</table>\n",
              "</div>\n",
              "      <button class=\"colab-df-convert\" onclick=\"convertToInteractive('df-b79cdae8-5b72-42d8-bf3d-a102ff5218f7')\"\n",
              "              title=\"Convert this dataframe to an interactive table.\"\n",
              "              style=\"display:none;\">\n",
              "        \n",
              "  <svg xmlns=\"http://www.w3.org/2000/svg\" height=\"24px\"viewBox=\"0 0 24 24\"\n",
              "       width=\"24px\">\n",
              "    <path d=\"M0 0h24v24H0V0z\" fill=\"none\"/>\n",
              "    <path d=\"M18.56 5.44l.94 2.06.94-2.06 2.06-.94-2.06-.94-.94-2.06-.94 2.06-2.06.94zm-11 1L8.5 8.5l.94-2.06 2.06-.94-2.06-.94L8.5 2.5l-.94 2.06-2.06.94zm10 10l.94 2.06.94-2.06 2.06-.94-2.06-.94-.94-2.06-.94 2.06-2.06.94z\"/><path d=\"M17.41 7.96l-1.37-1.37c-.4-.4-.92-.59-1.43-.59-.52 0-1.04.2-1.43.59L10.3 9.45l-7.72 7.72c-.78.78-.78 2.05 0 2.83L4 21.41c.39.39.9.59 1.41.59.51 0 1.02-.2 1.41-.59l7.78-7.78 2.81-2.81c.8-.78.8-2.07 0-2.86zM5.41 20L4 18.59l7.72-7.72 1.47 1.35L5.41 20z\"/>\n",
              "  </svg>\n",
              "      </button>\n",
              "      \n",
              "  <style>\n",
              "    .colab-df-container {\n",
              "      display:flex;\n",
              "      flex-wrap:wrap;\n",
              "      gap: 12px;\n",
              "    }\n",
              "\n",
              "    .colab-df-convert {\n",
              "      background-color: #E8F0FE;\n",
              "      border: none;\n",
              "      border-radius: 50%;\n",
              "      cursor: pointer;\n",
              "      display: none;\n",
              "      fill: #1967D2;\n",
              "      height: 32px;\n",
              "      padding: 0 0 0 0;\n",
              "      width: 32px;\n",
              "    }\n",
              "\n",
              "    .colab-df-convert:hover {\n",
              "      background-color: #E2EBFA;\n",
              "      box-shadow: 0px 1px 2px rgba(60, 64, 67, 0.3), 0px 1px 3px 1px rgba(60, 64, 67, 0.15);\n",
              "      fill: #174EA6;\n",
              "    }\n",
              "\n",
              "    [theme=dark] .colab-df-convert {\n",
              "      background-color: #3B4455;\n",
              "      fill: #D2E3FC;\n",
              "    }\n",
              "\n",
              "    [theme=dark] .colab-df-convert:hover {\n",
              "      background-color: #434B5C;\n",
              "      box-shadow: 0px 1px 3px 1px rgba(0, 0, 0, 0.15);\n",
              "      filter: drop-shadow(0px 1px 2px rgba(0, 0, 0, 0.3));\n",
              "      fill: #FFFFFF;\n",
              "    }\n",
              "  </style>\n",
              "\n",
              "      <script>\n",
              "        const buttonEl =\n",
              "          document.querySelector('#df-b79cdae8-5b72-42d8-bf3d-a102ff5218f7 button.colab-df-convert');\n",
              "        buttonEl.style.display =\n",
              "          google.colab.kernel.accessAllowed ? 'block' : 'none';\n",
              "\n",
              "        async function convertToInteractive(key) {\n",
              "          const element = document.querySelector('#df-b79cdae8-5b72-42d8-bf3d-a102ff5218f7');\n",
              "          const dataTable =\n",
              "            await google.colab.kernel.invokeFunction('convertToInteractive',\n",
              "                                                     [key], {});\n",
              "          if (!dataTable) return;\n",
              "\n",
              "          const docLinkHtml = 'Like what you see? Visit the ' +\n",
              "            '<a target=\"_blank\" href=https://colab.research.google.com/notebooks/data_table.ipynb>data table notebook</a>'\n",
              "            + ' to learn more about interactive tables.';\n",
              "          element.innerHTML = '';\n",
              "          dataTable['output_type'] = 'display_data';\n",
              "          await google.colab.output.renderOutput(dataTable, element);\n",
              "          const docLink = document.createElement('div');\n",
              "          docLink.innerHTML = docLinkHtml;\n",
              "          element.appendChild(docLink);\n",
              "        }\n",
              "      </script>\n",
              "    </div>\n",
              "  </div>\n",
              "  "
            ],
            "text/plain": [
              "       GROSS SQUARE FEET    SALE PRICE                      SALE DATE\n",
              "count       2.933400e+04  2.933400e+04                          29334\n",
              "mean        4.632911e+03  1.642829e+06  2017-02-25 08:10:00.859071232\n",
              "min         1.200000e+02  1.000000e+00            2016-09-01 00:00:00\n",
              "25%         1.361250e+03  4.200000e+05            2016-11-29 00:00:00\n",
              "50%         1.874000e+03  6.200000e+05            2017-02-24 12:00:00\n",
              "75%         2.680000e+03  9.500000e+05            2017-05-26 00:00:00\n",
              "max         3.750565e+06  2.210000e+09            2017-08-31 00:00:00\n",
              "std         3.417342e+04  1.699835e+07                            NaN"
            ]
          },
          "metadata": {},
          "execution_count": 19
        }
      ]
    },
    {
      "cell_type": "markdown",
      "source": [
        "We now have a minimum square footage of 120sqft and a minimum sale price of $1. These values still seem unusually low, but they will be satifactory for the purpose of calculating the price-per-square-foot (PPSQFT) of the properties. \n",
        "<br></br>\n",
        "For context, price-per-square-feet is going to be a more useful dependent variable to test how all property sale prices change depending on the time of year. The sale prices alone are subject to the bias that maybe higher or lower-valued homes sell more frequently at a certain time of year, causing the mean sale price to skew. By looking only at price-per-square-foot, we remove the potential for such bias and focus on the date dependency of price."
      ],
      "metadata": {
        "id": "0qmWrzWUhraQ"
      }
    },
    {
      "cell_type": "code",
      "source": [
        "sales_df = sales_df.assign(PPSQFT= sales_df['SALE PRICE']/sales_df['GROSS SQUARE FEET'])"
      ],
      "metadata": {
        "id": "Q8EckIPDm5zv"
      },
      "execution_count": null,
      "outputs": []
    },
    {
      "cell_type": "code",
      "source": [
        "sales_df['PPSQFT'].describe()"
      ],
      "metadata": {
        "colab": {
          "base_uri": "https://localhost:8080/"
        },
        "id": "5_LzS2o_nG4W",
        "outputId": "554f6b4f-9ff0-42e3-a0c9-3e4bd6613ad2"
      },
      "execution_count": null,
      "outputs": [
        {
          "output_type": "execute_result",
          "data": {
            "text/plain": [
              "count    29334.000000\n",
              "mean       410.249141\n",
              "std        657.105820\n",
              "min          0.000002\n",
              "25%        234.009156\n",
              "50%        343.465124\n",
              "75%        487.280195\n",
              "max      75974.855000\n",
              "Name: PPSQFT, dtype: float64"
            ]
          },
          "metadata": {},
          "execution_count": 21
        }
      ]
    },
    {
      "cell_type": "code",
      "source": [
        "sns.histplot(data=sales_df, kde=True, x='PPSQFT', bins=5000)"
      ],
      "metadata": {
        "colab": {
          "base_uri": "https://localhost:8080/",
          "height": 297
        },
        "id": "C4QL59aEnNop",
        "outputId": "ec23e330-4df5-4ae6-93e6-db317937c58b"
      },
      "execution_count": null,
      "outputs": [
        {
          "output_type": "execute_result",
          "data": {
            "text/plain": [
              "<matplotlib.axes._subplots.AxesSubplot at 0x7faf1d8a2910>"
            ]
          },
          "metadata": {},
          "execution_count": 22
        },
        {
          "output_type": "display_data",
          "data": {
            "image/png": "[encoded data removed]",
            "text/plain": [
              "<Figure size 432x288 with 1 Axes>"
            ]
          },
          "metadata": {
            "needs_background": "light"
          }
        }
      ]
    },
    {
      "cell_type": "markdown",
      "source": [
        "Clearly the *PPSQFT* data is heavily skewed. 75% of the values are below \\$488 so lets check exactly how many entires have a PPSQFT over \\$2000."
      ],
      "metadata": {
        "id": "dcsb_Xbknhp5"
      }
    },
    {
      "cell_type": "code",
      "source": [
        "ppsqft_over_2k = sales_df.loc[sales_df['PPSQFT'] > 2000]\n",
        "print(ppsqft_over_2k['PPSQFT'].count())"
      ],
      "metadata": {
        "colab": {
          "base_uri": "https://localhost:8080/"
        },
        "id": "OfJh7HPGoFxQ",
        "outputId": "014dca01-3663-4478-8368-f817dc34f3ac"
      },
      "execution_count": null,
      "outputs": [
        {
          "output_type": "stream",
          "name": "stdout",
          "text": [
            "201\n"
          ]
        }
      ]
    },
    {
      "cell_type": "markdown",
      "source": [
        "Less than 1% of the total entries have a PPSQFT over \\$2000/sqft, lets go ahead and remove these and look at the distribution again."
      ],
      "metadata": {
        "id": "-Jzzk2eDoXsC"
      }
    },
    {
      "cell_type": "code",
      "source": [
        "sales_df = sales_df[sales_df['PPSQFT'] < 2000]\n",
        "sales_df['PPSQFT'].describe()"
      ],
      "metadata": {
        "colab": {
          "base_uri": "https://localhost:8080/"
        },
        "id": "RRHcUO8fpxQw",
        "outputId": "3dcae1f7-2ec7-4997-da55-8f1c7b486ccb"
      },
      "execution_count": null,
      "outputs": [
        {
          "output_type": "execute_result",
          "data": {
            "text/plain": [
              "count    29131.000000\n",
              "mean       383.158263\n",
              "std        249.113772\n",
              "min          0.000002\n",
              "25%        233.099377\n",
              "50%        342.261905\n",
              "75%        483.119723\n",
              "max       1995.370370\n",
              "Name: PPSQFT, dtype: float64"
            ]
          },
          "metadata": {},
          "execution_count": 24
        }
      ]
    },
    {
      "cell_type": "code",
      "source": [
        "sns.histplot(data=sales_df, kde=True, x='PPSQFT', bins=500)"
      ],
      "metadata": {
        "colab": {
          "base_uri": "https://localhost:8080/",
          "height": 297
        },
        "id": "wHRPG-8wqL2y",
        "outputId": "e83692ca-c488-4810-b24e-35171f9cf8dd"
      },
      "execution_count": null,
      "outputs": [
        {
          "output_type": "execute_result",
          "data": {
            "text/plain": [
              "<matplotlib.axes._subplots.AxesSubplot at 0x7faf15a79ed0>"
            ]
          },
          "metadata": {},
          "execution_count": 25
        },
        {
          "output_type": "display_data",
          "data": {
            "image/png": "[encoded data removed]",
            "text/plain": [
              "<Figure size 432x288 with 1 Axes>"
            ]
          },
          "metadata": {
            "needs_background": "light"
          }
        }
      ]
    },
    {
      "cell_type": "markdown",
      "source": [
        "The distribution is looking much better after removing those upper outliers, but we may still be able to remove a few more entries off the top. We will check for entries with a PPSQFT above 3 standard deviations from the mean. "
      ],
      "metadata": {
        "id": "t-hg9qUZqje4"
      }
    },
    {
      "cell_type": "code",
      "source": [
        "price_above_3std = sales_df.loc[sales_df['PPSQFT'] > sales_df['PPSQFT'].mean() + 3*sales_df['PPSQFT'].std()]\n",
        "print(price_above_3std['PPSQFT'].count())"
      ],
      "metadata": {
        "colab": {
          "base_uri": "https://localhost:8080/"
        },
        "id": "LG6rncmfq-11",
        "outputId": "ef49b55c-2fd5-4bc0-94b8-b0ab1cc2bec8"
      },
      "execution_count": null,
      "outputs": [
        {
          "output_type": "stream",
          "name": "stdout",
          "text": [
            "512\n"
          ]
        }
      ]
    },
    {
      "cell_type": "markdown",
      "source": [
        "We will go ahead and remove these as well."
      ],
      "metadata": {
        "id": "kUkI4rRorm5d"
      }
    },
    {
      "cell_type": "code",
      "source": [
        "sales_df = sales_df[sales_df['PPSQFT'] < sales_df['PPSQFT'].mean() + 3*sales_df['PPSQFT'].std()]\n",
        "sales_df['PPSQFT'].describe()"
      ],
      "metadata": {
        "colab": {
          "base_uri": "https://localhost:8080/"
        },
        "id": "Mw6x8Zd1rrSW",
        "outputId": "28d6b144-d5ea-48d4-dccf-c0ff4079202e"
      },
      "execution_count": null,
      "outputs": [
        {
          "output_type": "execute_result",
          "data": {
            "text/plain": [
              "count    28619.000000\n",
              "mean       364.283623\n",
              "std        204.529581\n",
              "min          0.000002\n",
              "25%        230.823178\n",
              "50%        338.345865\n",
              "75%        472.238620\n",
              "max       1130.307199\n",
              "Name: PPSQFT, dtype: float64"
            ]
          },
          "metadata": {},
          "execution_count": 27
        }
      ]
    },
    {
      "cell_type": "code",
      "source": [
        "sns.histplot(data=sales_df, kde=True, x='PPSQFT', bins=100)"
      ],
      "metadata": {
        "colab": {
          "base_uri": "https://localhost:8080/",
          "height": 297
        },
        "id": "73bNw4GMr6S3",
        "outputId": "099fa551-8df8-4631-f8a3-0b7be650acbb"
      },
      "execution_count": null,
      "outputs": [
        {
          "output_type": "execute_result",
          "data": {
            "text/plain": [
              "<matplotlib.axes._subplots.AxesSubplot at 0x7faf1e8953d0>"
            ]
          },
          "metadata": {},
          "execution_count": 28
        },
        {
          "output_type": "display_data",
          "data": {
            "image/png": "[encoded data removed]",
            "text/plain": [
              "<Figure size 432x288 with 1 Axes>"
            ]
          },
          "metadata": {
            "needs_background": "light"
          }
        }
      ]
    },
    {
      "cell_type": "markdown",
      "source": [
        "Now our upper end looks good but we should address that spike at the low end of the distribution. Those entries are left over from the deed transfers that I mentioned before. We previously removed the properties that sold for \\$0 but sometime these transfers occur with a sale price of \\$10, \\$50, \\$200, etc. It will be easier to consider outliers in the *Sale Price* values, lets check homes that sold for under $1000."
      ],
      "metadata": {
        "id": "MTn_4zjjsGFw"
      }
    },
    {
      "cell_type": "code",
      "source": [
        "price_under_1k = sales_df[sales_df['SALE PRICE'] < 1000]\n",
        "print(price_under_1k['SALE PRICE'].count())"
      ],
      "metadata": {
        "colab": {
          "base_uri": "https://localhost:8080/"
        },
        "id": "gmVyKNqWtOWJ",
        "outputId": "355a782a-d190-4e6b-b4fd-a05a89052c7d"
      },
      "execution_count": null,
      "outputs": [
        {
          "output_type": "stream",
          "name": "stdout",
          "text": [
            "790\n"
          ]
        }
      ]
    },
    {
      "cell_type": "markdown",
      "source": [
        "Lets remove these and take a look at the *PPSQFT* distribution again."
      ],
      "metadata": {
        "id": "gX6ErbSNuaC7"
      }
    },
    {
      "cell_type": "code",
      "source": [
        "sales_df = sales_df[sales_df['SALE PRICE'] > 1000]"
      ],
      "metadata": {
        "id": "nOj_Ya4eugnd"
      },
      "execution_count": null,
      "outputs": []
    },
    {
      "cell_type": "code",
      "source": [
        "sns.histplot(data=sales_df, kde=True, x='PPSQFT', binwidth=2)"
      ],
      "metadata": {
        "colab": {
          "base_uri": "https://localhost:8080/",
          "height": 297
        },
        "id": "j9WMC_PMumww",
        "outputId": "a9d9eeaf-c9b2-407a-846e-fec8781397ff"
      },
      "execution_count": null,
      "outputs": [
        {
          "output_type": "execute_result",
          "data": {
            "text/plain": [
              "<matplotlib.axes._subplots.AxesSubplot at 0x7faf148dcd90>"
            ]
          },
          "metadata": {},
          "execution_count": 31
        },
        {
          "output_type": "display_data",
          "data": {
            "image/png": "[encoded data removed]",
            "text/plain": [
              "<Figure size 432x288 with 1 Axes>"
            ]
          },
          "metadata": {
            "needs_background": "light"
          }
        }
      ]
    },
    {
      "cell_type": "markdown",
      "source": [
        "We still have a spike at the bottom end of the distribution, lets check how many properties have a PPSQFT under \\$3/sqft."
      ],
      "metadata": {
        "id": "fDcZ8lJjvE99"
      }
    },
    {
      "cell_type": "code",
      "source": [
        "ppsqft_under_3 = sales_df[sales_df['PPSQFT'] < 3]\n",
        "print('Number of entries with PPSQFT < 3 = {}'.format(ppsqft_under_3['PPSQFT'].count()))\n",
        "ppsqft_under_3['PPSQFT'].sort_values()"
      ],
      "metadata": {
        "colab": {
          "base_uri": "https://localhost:8080/"
        },
        "id": "srLbQtmgvP5M",
        "outputId": "2e0eaf05-cda4-4a56-ed0d-eef002c8b1b4"
      },
      "execution_count": null,
      "outputs": [
        {
          "output_type": "stream",
          "name": "stdout",
          "text": [
            "Number of entries with PPSQFT < 3 = 154\n"
          ]
        },
        {
          "output_type": "execute_result",
          "data": {
            "text/plain": [
              "12539    0.025853\n",
              "9672     0.053141\n",
              "9670     0.078946\n",
              "9677     0.088613\n",
              "16967    0.112340\n",
              "           ...   \n",
              "2062     2.768514\n",
              "34087    2.777778\n",
              "70429    2.815278\n",
              "35112    2.857143\n",
              "21836    2.942042\n",
              "Name: PPSQFT, Length: 154, dtype: float64"
            ]
          },
          "metadata": {},
          "execution_count": 32
        }
      ]
    },
    {
      "cell_type": "markdown",
      "source": [
        "We will remove these and check the distribution again."
      ],
      "metadata": {
        "id": "NQ1YKyFawUAW"
      }
    },
    {
      "cell_type": "code",
      "source": [
        "sales_df = sales_df[sales_df['PPSQFT'] > 3]\n",
        "sales_df['PPSQFT'].describe()"
      ],
      "metadata": {
        "colab": {
          "base_uri": "https://localhost:8080/"
        },
        "id": "IM1vyyJ3wb1j",
        "outputId": "cd66532f-f0fe-4341-a200-82b9f82b582a"
      },
      "execution_count": null,
      "outputs": [
        {
          "output_type": "execute_result",
          "data": {
            "text/plain": [
              "count    27634.000000\n",
              "mean       377.260385\n",
              "std        196.037199\n",
              "min          3.048780\n",
              "25%        242.962749\n",
              "50%        345.583657\n",
              "75%        479.335901\n",
              "max       1130.307199\n",
              "Name: PPSQFT, dtype: float64"
            ]
          },
          "metadata": {},
          "execution_count": 33
        }
      ]
    },
    {
      "cell_type": "code",
      "source": [
        "sns.histplot(data=sales_df, kde=True, x='PPSQFT')"
      ],
      "metadata": {
        "colab": {
          "base_uri": "https://localhost:8080/",
          "height": 297
        },
        "id": "0rVH5T_1wif7",
        "outputId": "982ed75f-15a3-483d-fa6c-dcf482231099"
      },
      "execution_count": null,
      "outputs": [
        {
          "output_type": "execute_result",
          "data": {
            "text/plain": [
              "<matplotlib.axes._subplots.AxesSubplot at 0x7faf141e3e90>"
            ]
          },
          "metadata": {},
          "execution_count": 34
        },
        {
          "output_type": "display_data",
          "data": {
            "image/png": "[encoded data removed]",
            "text/plain": [
              "<Figure size 432x288 with 1 Axes>"
            ]
          },
          "metadata": {
            "needs_background": "light"
          }
        }
      ]
    },
    {
      "cell_type": "markdown",
      "source": [
        "Our PPSQFT distribution looks good enough to work with. The last thing we need to do before we begin our analysis is take a look at the property sales according to the borough the property is located in and the date the property sold."
      ],
      "metadata": {
        "id": "l7f1soqswuP3"
      }
    },
    {
      "cell_type": "markdown",
      "source": [
        "\n",
        "### Creating Bins\n"
      ],
      "metadata": {
        "id": "89JabU9h5jNJ"
      }
    },
    {
      "cell_type": "markdown",
      "source": [
        "First we will create bins for property sales according to the borough the property is located in."
      ],
      "metadata": {
        "id": "Bpjggh1M5p6J"
      }
    },
    {
      "cell_type": "code",
      "source": [
        "manhattan = sales_df[sales_df['BOROUGH'] == 1]\n",
        "bronx = sales_df[sales_df['BOROUGH'] == 2]\n",
        "brooklyn = sales_df[sales_df['BOROUGH'] == 3]\n",
        "queens = sales_df[sales_df['BOROUGH'] == 4]\n",
        "staten = sales_df[sales_df['BOROUGH'] == 5]"
      ],
      "metadata": {
        "id": "kGJV2YGoya7f"
      },
      "execution_count": null,
      "outputs": []
    },
    {
      "cell_type": "code",
      "source": [
        "manhattan_n = manhattan['PPSQFT'].count()\n",
        "bronx_n = bronx['PPSQFT'].count()\n",
        "brooklyn_n = brooklyn['PPSQFT'].count()\n",
        "queens_n = queens['PPSQFT'].count()\n",
        "staten_n = staten['PPSQFT'].count()\n",
        "\n",
        "print('Number of Manhattan sales = {}.'.format(manhattan_n))\n",
        "print('Number of Bronx sales = {}.'.format(bronx_n))\n",
        "print('Number of Brooklyn sales = {}.'.format(brooklyn_n))\n",
        "print('Number of Queens sales = {}.'.format(queens_n))\n",
        "print('Number of Staten Island sales = {}.'.format(staten_n))"
      ],
      "metadata": {
        "colab": {
          "base_uri": "https://localhost:8080/"
        },
        "id": "2mOcuwnZy_sc",
        "outputId": "851e8000-d18a-4ca4-8d84-5eea95005c08"
      },
      "execution_count": null,
      "outputs": [
        {
          "output_type": "stream",
          "name": "stdout",
          "text": [
            "Number of Manhattan sales = 606.\n",
            "Number of Bronx sales = 3380.\n",
            "Number of Brooklyn sales = 8034.\n",
            "Number of Queens sales = 10697.\n",
            "Number of Staten Island sales = 4917.\n"
          ]
        }
      ]
    },
    {
      "cell_type": "markdown",
      "source": [
        "Looks like we have good sample sizes for each borough, although the sample size for Manhattan is significantly smaller than the other boroughs. Next we will split these bins according to sale date. For each borough, we will have one bin for properties that sold between September 1, 2016 and February 28, 2017 and another bin for properties that sold between March 1, 2017 and August 31, 2017. We will label these bins *borough_winter* and *borough_summer* respectively."
      ],
      "metadata": {
        "id": "jLg4-tB2zzRS"
      }
    },
    {
      "cell_type": "code",
      "source": [
        "manhattan_winter = sales_df[(sales_df['BOROUGH'] == 1) & (sales_df['SALE DATE'] <= '2017-02-28')]\n",
        "manhattan_summer = sales_df[(sales_df['BOROUGH'] == 1) & (sales_df['SALE DATE'] >= '2017-03-01')]\n",
        "\n",
        "bronx_winter = sales_df[(sales_df['BOROUGH'] == 2) & (sales_df['SALE DATE'] <= '2017-02-28')]\n",
        "bronx_summer = sales_df[(sales_df['BOROUGH'] == 2) & (sales_df['SALE DATE'] >= '2017-03-01')]\n",
        "\n",
        "brooklyn_winter = sales_df[(sales_df['BOROUGH'] == 3) & (sales_df['SALE DATE'] <= '2017-02-28')]\n",
        "brooklyn_summer = sales_df[(sales_df['BOROUGH'] == 3) & (sales_df['SALE DATE'] >= '2017-03-01')]\n",
        "\n",
        "queens_winter = sales_df[(sales_df['BOROUGH'] == 4) & (sales_df['SALE DATE'] <= '2017-02-28')]\n",
        "queens_summer = sales_df[(sales_df['BOROUGH'] == 4) & (sales_df['SALE DATE'] >= '2017-03-01')]\n",
        "\n",
        "staten_winter = sales_df[(sales_df['BOROUGH'] == 5) & (sales_df['SALE DATE'] <= '2017-02-28')]\n",
        "staten_summer = sales_df[(sales_df['BOROUGH'] == 5) & (sales_df['SALE DATE'] >= '2017-03-01')]"
      ],
      "metadata": {
        "id": "lfSbWMi80nGH"
      },
      "execution_count": null,
      "outputs": []
    },
    {
      "cell_type": "code",
      "source": [
        "manhattan_winter_n = manhattan_winter['PPSQFT'].count()\n",
        "manhattan_summer_n = manhattan_summer['PPSQFT'].count()\n",
        "\n",
        "bronx_winter_n = bronx_winter['PPSQFT'].count()\n",
        "bronx_summer_n = bronx_summer['PPSQFT'].count()\n",
        "\n",
        "brooklyn_winter_n = brooklyn_winter['PPSQFT'].count()\n",
        "brooklyn_summer_n = brooklyn_summer['PPSQFT'].count()\n",
        "\n",
        "queens_winter_n = queens_winter['PPSQFT'].count()\n",
        "queens_summer_n = queens_summer['PPSQFT'].count()\n",
        "\n",
        "staten_winter_n = staten_winter['PPSQFT'].count()\n",
        "staten_summer_n = staten_summer['PPSQFT'].count()"
      ],
      "metadata": {
        "id": "tZIHWv9U4oNp"
      },
      "execution_count": null,
      "outputs": []
    },
    {
      "cell_type": "code",
      "source": [
        "print('Number of Manhattan winter sales = {}.'.format(manhattan_winter_n))\n",
        "print('Number of Manhattan summer sales = {}.'.format(manhattan_summer_n))\n",
        "print('')\n",
        "print('Number of Bronx winter sales = {}.'.format(bronx_winter_n))\n",
        "print('Number of Bronx summer sales = {}.'.format(bronx_summer_n))\n",
        "print('')\n",
        "print('Number of Brooklyn winter sales = {}.'.format(brooklyn_winter_n))\n",
        "print('Number of Brooklyn summer sales = {}.'.format(brooklyn_summer_n))\n",
        "print('')\n",
        "print('Number of Queens winter sales = {}.'.format(queens_winter_n))\n",
        "print('Number of Queens summer sales = {}.'.format(queens_summer_n))\n",
        "print('')\n",
        "print('Number of Staten Island winter sales = {}.'.format(staten_winter_n))\n",
        "print('Number of Staten Island summer sales = {}.'.format(staten_summer_n))"
      ],
      "metadata": {
        "colab": {
          "base_uri": "https://localhost:8080/"
        },
        "id": "cxen7p4M2sN_",
        "outputId": "dd63f675-4dff-4d13-efe8-faa36ff17a6f"
      },
      "execution_count": null,
      "outputs": [
        {
          "output_type": "stream",
          "name": "stdout",
          "text": [
            "Number of Manhattan winter sales = 358.\n",
            "Number of Manhattan summer sales = 248.\n",
            "\n",
            "Number of Bronx winter sales = 1683.\n",
            "Number of Bronx summer sales = 1697.\n",
            "\n",
            "Number of Brooklyn winter sales = 4064.\n",
            "Number of Brooklyn summer sales = 3970.\n",
            "\n",
            "Number of Queens winter sales = 5376.\n",
            "Number of Queens summer sales = 5321.\n",
            "\n",
            "Number of Staten Island winter sales = 2637.\n",
            "Number of Staten Island summer sales = 2280.\n"
          ]
        }
      ]
    },
    {
      "cell_type": "markdown",
      "source": [
        "Now that the data is cleaned and organized, we are ready to begin our analysis."
      ],
      "metadata": {
        "id": "9FOhbkJm51n5"
      }
    },
    {
      "cell_type": "markdown",
      "source": [
        "\n",
        "## Research Questions & Hypotheses\n"
      ],
      "metadata": {
        "id": "FKuNqe8M6QzM"
      }
    },
    {
      "cell_type": "markdown",
      "source": [
        "**Question 1**: Is there a difference between the sale prices of Manhattan properties sold between September-February and those sold between March-August?\n",
        "\n",
        "> **H<sub>0</sub>** : The mean PPSQFT of Manhattan properties sold between September-February ***is equal*** to the mean PPSQFT of those sold between March-August.\n",
        "\n",
        "> **H<sub>a</sub>** : The mean PPSQFT of Manhattan properties sold between September-February ***is not equal*** to the mean PPSQFT of those sold between March-August.\n",
        "\n",
        "<br></br>\n",
        "**Question 2**: Is there a difference between the sale prices of Bronx properties sold between September-February and those sold between March-August?\n",
        "\n",
        "> **H<sub>0</sub>** : The mean PPSQFT of Bronx properties sold between September-February ***is equal*** to the mean PPSQFT of those sold between March-August.\n",
        "\n",
        "> **H<sub>a</sub>** : The mean PPSQFT of Bronx properties sold between September-February ***is not equal*** to the mean PPSQFT of those sold between March-August.\n",
        "\n",
        "<br></br>\n",
        "**Question 3**: Is there a difference between the sale prices of Brooklyn properties sold between September-February and those sold between March-August?\n",
        "\n",
        "> **H<sub>0</sub>** : The mean PPSQFT of Brooklyn properties sold between September-February ***is equal*** to the mean PPSQFT of those sold between March-August.\n",
        "\n",
        "> **H<sub>a</sub>** : The mean PPSQFT of Brooklyn properties sold between September-February ***is not equal*** to the mean PPSQFT of those sold between March-August.\n",
        "\n",
        "<br></br>\n",
        "**Question 4**: Is there a difference between the sale prices of Queens properties sold between September-February and those sold between March-August?\n",
        "\n",
        "> **H<sub>0</sub>** : The mean PPSQFT of Queens properties sold between September-February ***is equal*** to the mean PPSQFT of those sold between March-August.\n",
        "\n",
        "> **H<sub>a</sub>** : The mean PPSQFT of Queens properties sold between September-February ***is not equal*** to the mean PPSQFT of those sold between March-August.\n",
        "\n",
        "<br></br>\n",
        "**Question 5**: Is there a difference between the sale prices of Staten Island properties sold between September-February and those sold between March-August?\n",
        "\n",
        "> **H<sub>0</sub>** : The mean PPSQFT of Staten Island properties sold between September-February ***is equal*** to the mean PPSQFT of those sold between March-August.\n",
        "\n",
        "> **H<sub>a</sub>** : The mean PPSQFT of Staten Island properties sold between September-February ***is not equal*** to the mean PPSQFT of those sold between March-August.\n",
        "\n"
      ],
      "metadata": {
        "id": "BfCR3N7E6U_8"
      }
    },
    {
      "cell_type": "markdown",
      "source": [
        "\n",
        "## Analysis"
      ],
      "metadata": {
        "id": "AlYb_-Lk9g2_"
      }
    },
    {
      "cell_type": "markdown",
      "source": [
        "\n",
        "### Manhattan\n"
      ],
      "metadata": {
        "id": "e2TrH3VzCsM8"
      }
    },
    {
      "cell_type": "markdown",
      "source": [
        "**Question 1**: Is there a difference between the sale prices of Manhattan properties sold between September-February and those sold between March-August?\n",
        "\n",
        "> **H<sub>0</sub>** : The mean PPSQFT of Manhattan properties sold between September-February ***is equal*** to the mean PPSQFT of those sold between March-August.\n",
        "\n",
        "> **H<sub>a</sub>** : The mean PPSQFT of Manhattan properties sold between September-February ***is not equal*** to the mean PPSQFT of those sold between March-August.\n",
        "\n",
        "---\n",
        "\n",
        "Before we perform any statistical tests, lets look at the descriptive stats and distribution for our two samples.\n"
      ],
      "metadata": {
        "id": "V3L_mMFl9rmT"
      }
    },
    {
      "cell_type": "code",
      "source": [
        "print('Descriptive Stats: manhattan_winter')\n",
        "print(manhattan_winter['PPSQFT'].describe())"
      ],
      "metadata": {
        "colab": {
          "base_uri": "https://localhost:8080/"
        },
        "id": "R2ndVZQq-EJO",
        "outputId": "878d76a2-9536-44b6-85f1-3b71226d55bc"
      },
      "execution_count": null,
      "outputs": [
        {
          "output_type": "stream",
          "name": "stdout",
          "text": [
            "Descriptive Stats: manhattan_winter\n",
            "count     358.000000\n",
            "mean      572.642657\n",
            "std       290.829415\n",
            "min         4.464286\n",
            "25%       374.080745\n",
            "50%       566.182896\n",
            "75%       793.977809\n",
            "max      1130.307199\n",
            "Name: PPSQFT, dtype: float64\n"
          ]
        }
      ]
    },
    {
      "cell_type": "code",
      "source": [
        "sns.histplot(data=manhattan_winter, kde=True, x='PPSQFT')\n",
        "plt.title('Frequency of manhattan_winter PPSQFT')\n",
        "plt.show()"
      ],
      "metadata": {
        "colab": {
          "base_uri": "https://localhost:8080/",
          "height": 294
        },
        "id": "Ga4dEax9_Tf2",
        "outputId": "9bf7d01b-b7c7-4b17-c011-465e83072a5a"
      },
      "execution_count": null,
      "outputs": [
        {
          "output_type": "display_data",
          "data": {
            "image/png": "[encoded data removed]",
            "text/plain": [
              "<Figure size 432x288 with 1 Axes>"
            ]
          },
          "metadata": {
            "needs_background": "light"
          }
        }
      ]
    },
    {
      "cell_type": "code",
      "source": [
        "print('Descriptive Stats: manhattan_summer')\n",
        "print(manhattan_summer['PPSQFT'].describe())"
      ],
      "metadata": {
        "colab": {
          "base_uri": "https://localhost:8080/"
        },
        "id": "9rNkv6iq_Jga",
        "outputId": "d3c4e9e1-76e1-4e7d-c109-b757d26b851e"
      },
      "execution_count": null,
      "outputs": [
        {
          "output_type": "stream",
          "name": "stdout",
          "text": [
            "Descriptive Stats: manhattan_summer\n",
            "count     248.000000\n",
            "mean      589.769684\n",
            "std       298.167016\n",
            "min         5.296204\n",
            "25%       375.968598\n",
            "50%       602.915316\n",
            "75%       827.485611\n",
            "max      1124.016486\n",
            "Name: PPSQFT, dtype: float64\n"
          ]
        }
      ]
    },
    {
      "cell_type": "code",
      "source": [
        "sns.histplot(data=manhattan_summer, kde=True, x='PPSQFT')\n",
        "plt.title('Frequency of manhattan_summer PPSQFT')\n",
        "plt.show()"
      ],
      "metadata": {
        "colab": {
          "base_uri": "https://localhost:8080/",
          "height": 294
        },
        "id": "FXpgOrye_dMq",
        "outputId": "33f228e5-5209-41e3-8da8-d6c74765e838"
      },
      "execution_count": null,
      "outputs": [
        {
          "output_type": "display_data",
          "data": {
            "image/png": "[encoded data removed]",
            "text/plain": [
              "<Figure size 432x288 with 1 Axes>"
            ]
          },
          "metadata": {
            "needs_background": "light"
          }
        }
      ]
    },
    {
      "cell_type": "markdown",
      "source": [
        "These aren't the best looking distributions, but considering Manhattan had the smallest sample sizes, this will be sufficient for our test. Now we will conduct an independent sample t-test on the mean PPSQFT with α = .05."
      ],
      "metadata": {
        "id": "TaC58uKE_set"
      }
    },
    {
      "cell_type": "code",
      "source": [
        "manhattan_winter_mean = manhattan_winter['PPSQFT'].mean()\n",
        "manhattan_summer_mean = manhattan_summer['PPSQFT'].mean()\n",
        "manhattan_mean_diff = manhattan_winter_mean-manhattan_summer_mean\n",
        "\n",
        "manhattan_z, manhattan_p = stats.ttest_ind(manhattan_winter['PPSQFT'], manhattan_summer['PPSQFT'])\n",
        "print('Sample Means: \\n manhattan_winter = {} \\n manhattan_summer = {}'.format(manhattan_winter_mean, manhattan_summer_mean))\n",
        "print('')\n",
        "print('Sample Mean Difference = {}'.format(manhattan_mean_diff))\n",
        "print('')\n",
        "print('Test Results: \\n z-stat = {} \\n p-value = {}'.format(manhattan_z, manhattan_p))"
      ],
      "metadata": {
        "colab": {
          "base_uri": "https://localhost:8080/"
        },
        "id": "L-wGrQPaAIpQ",
        "outputId": "7a02d9b8-90c3-44d3-9395-27e906c8ec63"
      },
      "execution_count": null,
      "outputs": [
        {
          "output_type": "stream",
          "name": "stdout",
          "text": [
            "Sample Means: \n",
            " manhattan_winter = 572.6426565187757 \n",
            " manhattan_summer = 589.7696841600415\n",
            "\n",
            "Sample Mean Difference = -17.12702764126584\n",
            "\n",
            "Test Results: \n",
            " z-stat = -0.7054790046302419 \n",
            " p-value = 0.4807841755744182\n"
          ]
        }
      ]
    },
    {
      "cell_type": "markdown",
      "source": [
        "The test resulted in a p-value of 0.48 which is greater than our α-level of 0.05. \n",
        "<br></br>\n",
        "We fail to reject the null hypothesis that the mean PPSQFT of Manhattan properties sold between September-February are equal to those sold between March-August. The sample mean difference is not statistically significant at the α=.05 level.\n",
        "<br></br>\n",
        "In other words, the sample mean difference of \\$-17.13/sqft cannot be shown to be representative of Manhattan properties as a whole."
      ],
      "metadata": {
        "id": "eARA2hROEfBc"
      }
    },
    {
      "cell_type": "markdown",
      "source": [
        "\n",
        "### Bronx\n"
      ],
      "metadata": {
        "id": "DyF6fQc5I_Ue"
      }
    },
    {
      "cell_type": "markdown",
      "source": [
        "**Question 2**: Is there a difference between the sale prices of Bronx properties sold between September-February and those sold between March-August?\n",
        "\n",
        "> **H<sub>0</sub>** : The mean PPSQFT of Bronx properties sold between September-February ***is equal*** to the mean PPSQFT of those sold between March-August.\n",
        "\n",
        "> **H<sub>a</sub>** : The mean PPSQFT of Bronx properties sold between September-February ***is not equal*** to the mean PPSQFT of those sold between March-August.\n",
        "\n",
        "---\n",
        "\n",
        "Again, we will check the descriptive stats and the distributions for our two samples."
      ],
      "metadata": {
        "id": "vpJnu3G2JIw5"
      }
    },
    {
      "cell_type": "code",
      "source": [
        "print('Descriptive Stats: bronx_winter')\n",
        "print(bronx_winter['PPSQFT'].describe())"
      ],
      "metadata": {
        "colab": {
          "base_uri": "https://localhost:8080/"
        },
        "id": "yka7KLLQJVVj",
        "outputId": "3bc8b7bc-c765-4ce0-9d38-b4197867d990"
      },
      "execution_count": null,
      "outputs": [
        {
          "output_type": "stream",
          "name": "stdout",
          "text": [
            "Descriptive Stats: bronx_winter\n",
            "count    1683.000000\n",
            "mean      231.981594\n",
            "std       111.994844\n",
            "min         3.631082\n",
            "25%       161.687483\n",
            "50%       217.601547\n",
            "75%       280.370102\n",
            "max      1041.666667\n",
            "Name: PPSQFT, dtype: float64\n"
          ]
        }
      ]
    },
    {
      "cell_type": "code",
      "source": [
        "sns.histplot(data=bronx_winter, kde=True, x='PPSQFT')\n",
        "plt.title('Frequency of bronx_winter PPSQFT')\n",
        "plt.show()"
      ],
      "metadata": {
        "colab": {
          "base_uri": "https://localhost:8080/",
          "height": 294
        },
        "id": "9S7-R7g4JfZL",
        "outputId": "218d965a-5fc9-4883-bf0b-081b45a549c3"
      },
      "execution_count": null,
      "outputs": [
        {
          "output_type": "display_data",
          "data": {
            "image/png": "[encoded data removed]",
            "text/plain": [
              "<Figure size 432x288 with 1 Axes>"
            ]
          },
          "metadata": {
            "needs_background": "light"
          }
        }
      ]
    },
    {
      "cell_type": "code",
      "source": [
        "print('Descriptive Stats: bronx_summer')\n",
        "print(bronx_summer['PPSQFT'].describe())"
      ],
      "metadata": {
        "colab": {
          "base_uri": "https://localhost:8080/"
        },
        "id": "oUsDiJFmJ-Do",
        "outputId": "e0184e9e-2b8b-4ad0-f4bd-1517a22b0fd0"
      },
      "execution_count": null,
      "outputs": [
        {
          "output_type": "stream",
          "name": "stdout",
          "text": [
            "Descriptive Stats: bronx_summer\n",
            "count    1697.000000\n",
            "mean      243.709672\n",
            "std       122.491868\n",
            "min         3.086420\n",
            "25%       169.722380\n",
            "50%       227.029915\n",
            "75%       288.461538\n",
            "max      1089.423513\n",
            "Name: PPSQFT, dtype: float64\n"
          ]
        }
      ]
    },
    {
      "cell_type": "code",
      "source": [
        "sns.histplot(data=bronx_summer, kde=True, x='PPSQFT')\n",
        "plt.title('Frequency of bronx_summer PPSQFT')\n",
        "plt.show()"
      ],
      "metadata": {
        "colab": {
          "base_uri": "https://localhost:8080/",
          "height": 294
        },
        "id": "ybGgFD1bKCp_",
        "outputId": "bda59641-65f5-452c-83cc-5d10fb9b607f"
      },
      "execution_count": null,
      "outputs": [
        {
          "output_type": "display_data",
          "data": {
            "image/png": "[encoded data removed]",
            "text/plain": [
              "<Figure size 432x288 with 1 Axes>"
            ]
          },
          "metadata": {
            "needs_background": "light"
          }
        }
      ]
    },
    {
      "cell_type": "markdown",
      "source": [
        "Our distributions look sufficient for our test so we will go ahead with another independent sample t-test on the PPSQFT means with α = .05."
      ],
      "metadata": {
        "id": "WItDg4wmKT8_"
      }
    },
    {
      "cell_type": "code",
      "source": [
        "bronx_winter_mean = bronx_winter['PPSQFT'].mean()\n",
        "bronx_summer_mean = bronx_summer['PPSQFT'].mean()\n",
        "bronx_mean_diff = bronx_winter_mean-bronx_summer_mean\n",
        "\n",
        "bronx_z, bronx_p = stats.ttest_ind(bronx_winter['PPSQFT'], bronx_summer['PPSQFT'])\n",
        "print('Sample Means: \\n bronx_winter = {} \\n bronx_summer = {}'.format(bronx_winter_mean, bronx_summer_mean))\n",
        "print('')\n",
        "print('Sample Mean Difference = {}'.format(bronx_mean_diff))\n",
        "print('')\n",
        "print('Test Results: \\n z-stat = {} \\n p-value = {}'.format(bronx_z, bronx_p))"
      ],
      "metadata": {
        "colab": {
          "base_uri": "https://localhost:8080/"
        },
        "id": "4eYe7XsgKn2T",
        "outputId": "0c3dd315-37dd-4f59-c41a-74dec8ad8032"
      },
      "execution_count": null,
      "outputs": [
        {
          "output_type": "stream",
          "name": "stdout",
          "text": [
            "Sample Means: \n",
            " bronx_winter = 231.98159385230633 \n",
            " bronx_summer = 243.7096720104657\n",
            "\n",
            "Sample Mean Difference = -11.728078158159377\n",
            "\n",
            "Test Results: \n",
            " z-stat = -2.9043444019449653 \n",
            " p-value = 0.003704111653644145\n"
          ]
        }
      ]
    },
    {
      "cell_type": "markdown",
      "source": [
        "The test resulted in a p-value of 0.004 which is less than our α-level of 0.05. We are forced to reject the null hypothesis that the population means are equal. The sample mean difference is statistically significant at the α = .05 level.<br></br>\n",
        "This test has concluded that Bronx properties sold between September-February do sell for less than those sold between March-August. To see the magnitude of the difference let's check the 95% confidence interval for the mean difference."
      ],
      "metadata": {
        "id": "v1Ty5tcpLMY6"
      }
    },
    {
      "cell_type": "code",
      "source": [
        "bronx_winter_var = bronx_winter['PPSQFT'].var()\n",
        "bronx_summer_var = bronx_summer['PPSQFT'].var()\n",
        "\n",
        "bronx_std_err_diff = math.sqrt((bronx_winter_var/bronx_winter_n)+(bronx_summer_var/bronx_summer_n))\n",
        "bronx_margin_of_err = 1.96 * bronx_std_err_diff\n",
        "\n",
        "bronx_ci_lower = bronx_mean_diff - bronx_margin_of_err\n",
        "bronx_ci_upper = bronx_mean_diff + bronx_margin_of_err\n",
        "\n",
        "print('95% Confidence Interval for bronx_mean_diff: \\n Lower Bound = {} \\n Upper Bound = {}'.format(bronx_ci_lower, bronx_ci_upper))"
      ],
      "metadata": {
        "colab": {
          "base_uri": "https://localhost:8080/"
        },
        "id": "D0yTOlWDL4ZR",
        "outputId": "013c5ca5-ea70-4034-bbeb-91f532d96865"
      },
      "execution_count": null,
      "outputs": [
        {
          "output_type": "stream",
          "name": "stdout",
          "text": [
            "95% Confidence Interval for bronx_mean_diff: \n",
            " Lower Bound = -19.63985498349154 \n",
            " Upper Bound = -3.816301332827215\n"
          ]
        }
      ]
    },
    {
      "cell_type": "markdown",
      "source": [
        "At the 95% confidence level, the population mean difference is between \\$-19.64/sqft and \\$-3.82/sqft. \n",
        "<br></br>\n",
        "So with 95% confidence, Bronx properties sold between March-August sell for \\$3.82 to \\$19.64 more on average than those sold between September-February."
      ],
      "metadata": {
        "id": "oPY1oR0jO0qe"
      }
    },
    {
      "cell_type": "markdown",
      "source": [
        "\n",
        "### Brooklyn\n"
      ],
      "metadata": {
        "id": "GY11qBuvQeXW"
      }
    },
    {
      "cell_type": "markdown",
      "source": [
        "**Question 3**: Is there a difference between the sale prices of Brooklyn properties sold between September-February and those sold between March-August?\n",
        "\n",
        "> **H<sub>0</sub>** : The mean PPSQFT of Brooklyn properties sold between September-February ***is equal*** to the mean PPSQFT of those sold between March-August.\n",
        "\n",
        "> **H<sub>a</sub>** : The mean PPSQFT of Brooklyn properties sold between September-February ***is not equal*** to the mean PPSQFT of those sold between March-August.\n",
        "\n",
        "---\n",
        "\n",
        "We start by checking descriptive stats and distributions.\n"
      ],
      "metadata": {
        "id": "YTcnF_SzQg4x"
      }
    },
    {
      "cell_type": "code",
      "source": [
        "print('Descriptive Stats: brooklyn_winter')\n",
        "print(brooklyn_winter['PPSQFT'].describe())"
      ],
      "metadata": {
        "colab": {
          "base_uri": "https://localhost:8080/"
        },
        "id": "7p3l3XMMQyvP",
        "outputId": "eedab437-bd97-4842-a8ec-09f5dc1fe998"
      },
      "execution_count": null,
      "outputs": [
        {
          "output_type": "stream",
          "name": "stdout",
          "text": [
            "Descriptive Stats: brooklyn_winter\n",
            "count    4064.000000\n",
            "mean      416.540145\n",
            "std       218.822127\n",
            "min         3.048780\n",
            "25%       262.129264\n",
            "50%       388.078847\n",
            "75%       533.333333\n",
            "max      1125.000000\n",
            "Name: PPSQFT, dtype: float64\n"
          ]
        }
      ]
    },
    {
      "cell_type": "code",
      "source": [
        "sns.histplot(data=brooklyn_winter, kde=True, x='PPSQFT')\n",
        "plt.title('Frequency of brooklyn_winter PPSQFT')\n",
        "plt.show()"
      ],
      "metadata": {
        "colab": {
          "base_uri": "https://localhost:8080/",
          "height": 294
        },
        "id": "1lsHRKl_Q-Ew",
        "outputId": "6dfd2b8d-e0c3-4a5e-ba94-6b614820b7a8"
      },
      "execution_count": null,
      "outputs": [
        {
          "output_type": "display_data",
          "data": {
            "image/png": "[encoded data removed]",
            "text/plain": [
              "<Figure size 432x288 with 1 Axes>"
            ]
          },
          "metadata": {
            "needs_background": "light"
          }
        }
      ]
    },
    {
      "cell_type": "code",
      "source": [
        "print('Descriptive Stats: brooklyn_summer')\n",
        "print(brooklyn_summer['PPSQFT'].describe())"
      ],
      "metadata": {
        "colab": {
          "base_uri": "https://localhost:8080/"
        },
        "id": "ENhDRCgaRFwp",
        "outputId": "dcd855a0-b68f-46cf-bb4b-e636c1af665a"
      },
      "execution_count": null,
      "outputs": [
        {
          "output_type": "stream",
          "name": "stdout",
          "text": [
            "Descriptive Stats: brooklyn_summer\n",
            "count    3970.000000\n",
            "mean      435.817742\n",
            "std       230.114641\n",
            "min         3.089280\n",
            "25%       268.907563\n",
            "50%       400.000000\n",
            "75%       571.354461\n",
            "max      1129.943503\n",
            "Name: PPSQFT, dtype: float64\n"
          ]
        }
      ]
    },
    {
      "cell_type": "code",
      "source": [
        "sns.histplot(data=brooklyn_summer, kde=True, x='PPSQFT')\n",
        "plt.title('Frequency of brooklyn_summer PPSQFT')\n",
        "plt.show()"
      ],
      "metadata": {
        "colab": {
          "base_uri": "https://localhost:8080/",
          "height": 294
        },
        "id": "d3UuPT-ZRJjW",
        "outputId": "adba616d-192c-43ce-9fe9-dd2c036ffcc4"
      },
      "execution_count": null,
      "outputs": [
        {
          "output_type": "display_data",
          "data": {
            "image/png": "[encoded data removed]",
            "text/plain": [
              "<Figure size 432x288 with 1 Axes>"
            ]
          },
          "metadata": {
            "needs_background": "light"
          }
        }
      ]
    },
    {
      "cell_type": "markdown",
      "source": [
        "The distributions look good, we can move onto our t-test."
      ],
      "metadata": {
        "id": "LrVYq571RRyU"
      }
    },
    {
      "cell_type": "code",
      "source": [
        "brooklyn_winter_mean = brooklyn_winter['PPSQFT'].mean()\n",
        "brooklyn_summer_mean = brooklyn_summer['PPSQFT'].mean()\n",
        "brooklyn_mean_diff = brooklyn_winter_mean-brooklyn_summer_mean\n",
        "\n",
        "brooklyn_z, brooklyn_p = stats.ttest_ind(brooklyn_winter['PPSQFT'], brooklyn_summer['PPSQFT'])\n",
        "print('Sample Means: \\n brooklyn_winter = {} \\n brooklyn_summer = {}'.format(brooklyn_winter_mean, brooklyn_summer_mean))\n",
        "print('')\n",
        "print('Sample Mean Difference = {}'.format(brooklyn_mean_diff))\n",
        "print('')\n",
        "print('Test Results: \\n z-stat = {} \\n p-value = {}'.format(brooklyn_z, brooklyn_p))"
      ],
      "metadata": {
        "colab": {
          "base_uri": "https://localhost:8080/"
        },
        "id": "uSi41fq9RXcv",
        "outputId": "acc7ec05-68fa-4e96-a7a3-9f2fa608896f"
      },
      "execution_count": null,
      "outputs": [
        {
          "output_type": "stream",
          "name": "stdout",
          "text": [
            "Sample Means: \n",
            " brooklyn_winter = 416.54014488279 \n",
            " brooklyn_summer = 435.8177418079933\n",
            "\n",
            "Sample Mean Difference = -19.277596925203284\n",
            "\n",
            "Test Results: \n",
            " z-stat = -3.8485254290143245 \n",
            " p-value = 0.00011975199141203575\n"
          ]
        }
      ]
    },
    {
      "cell_type": "markdown",
      "source": [
        "Our test results show a p-value of 0.0001 which is significantly less than the α-level of 0.05. We must reject the null hypothesis that the population means are equal. The sample mean difference of \\$-19.28/sqft is statistically significant at the α = 0.05 level.\n",
        "<br></br>\n",
        "The test concluded that the Brooklyn properties sold between September-February do sell for less than those sold between March-August. Let's check the confidence interval to understand the magnitude of this effect."
      ],
      "metadata": {
        "id": "VW_5bfecRtZ8"
      }
    },
    {
      "cell_type": "code",
      "source": [
        "brooklyn_winter_var = brooklyn_winter['PPSQFT'].var()\n",
        "brooklyn_summer_var = brooklyn_summer['PPSQFT'].var()\n",
        "\n",
        "brooklyn_std_err_diff = math.sqrt((brooklyn_winter_var/brooklyn_winter_n)+(brooklyn_summer_var/brooklyn_summer_n))\n",
        "brooklyn_margin_of_err = 1.96 * brooklyn_std_err_diff\n",
        "\n",
        "brooklyn_ci_lower = brooklyn_mean_diff - brooklyn_margin_of_err\n",
        "brooklyn_ci_upper = brooklyn_mean_diff + brooklyn_margin_of_err\n",
        "\n",
        "print('95% Confidence Interval for brooklyn_mean_diff: \\n Lower Bound = {} \\n Upper Bound = {}'.format(brooklyn_ci_lower, brooklyn_ci_upper))"
      ],
      "metadata": {
        "colab": {
          "base_uri": "https://localhost:8080/"
        },
        "id": "UDaFupKkWW3P",
        "outputId": "8dfe08e9-b598-42d2-b3f0-6bf07fb55db1"
      },
      "execution_count": null,
      "outputs": [
        {
          "output_type": "stream",
          "name": "stdout",
          "text": [
            "95% Confidence Interval for brooklyn_mean_diff: \n",
            " Lower Bound = -29.10118422115919 \n",
            " Upper Bound = -9.454009629247377\n"
          ]
        }
      ]
    },
    {
      "cell_type": "markdown",
      "source": [
        "At the 95% confidence level the population mean difference is between \\$-29.10/sqft and \\$-9.45/sqft.\n",
        "<br></br>\n",
        "So with 95% certainty we can expect Brooklyn properties sold between March-August to sell for \\$9.45 to \\$29.10 more on average than those sold between September-February."
      ],
      "metadata": {
        "id": "am6oYbHQWu1Z"
      }
    },
    {
      "cell_type": "markdown",
      "source": [
        "\n",
        "### Queens\n"
      ],
      "metadata": {
        "id": "T-z5OjxwXcpk"
      }
    },
    {
      "cell_type": "markdown",
      "source": [
        "**Question 4**: Is there a difference between the sale prices of Queens properties sold between September-February and those sold between March-August?\n",
        "\n",
        "> **H<sub>0</sub>** : The mean PPSQFT of Queens properties sold between September-February ***is equal*** to the mean PPSQFT of those sold between March-August.\n",
        "\n",
        "> **H<sub>a</sub>** : The mean PPSQFT of Queens properties sold between September-February ***is not equal*** to the mean PPSQFT of those sold between March-August.\n",
        "\n",
        "---\n",
        "\n",
        "Let's check the descriptive stats and sample distributions."
      ],
      "metadata": {
        "id": "7U9lFzb-Xmoa"
      }
    },
    {
      "cell_type": "code",
      "source": [
        "print('Descriptive Stats: queens_winter')\n",
        "print(queens_winter['PPSQFT'].describe())"
      ],
      "metadata": {
        "colab": {
          "base_uri": "https://localhost:8080/"
        },
        "id": "AKVwaVApgs9O",
        "outputId": "a0376133-ffe3-45d1-ed6c-98e6ab9638a3"
      },
      "execution_count": null,
      "outputs": [
        {
          "output_type": "stream",
          "name": "stdout",
          "text": [
            "Descriptive Stats: queens_winter\n",
            "count    5376.000000\n",
            "mean      396.325318\n",
            "std       177.548235\n",
            "min         3.152585\n",
            "25%       277.091030\n",
            "50%       377.404735\n",
            "75%       502.136535\n",
            "max      1128.472222\n",
            "Name: PPSQFT, dtype: float64\n"
          ]
        }
      ]
    },
    {
      "cell_type": "code",
      "source": [
        "sns.histplot(data=queens_winter, kde=True, x='PPSQFT')\n",
        "plt.title('Frequency of queens_winter PPSQFT')\n",
        "plt.show()"
      ],
      "metadata": {
        "colab": {
          "base_uri": "https://localhost:8080/",
          "height": 294
        },
        "id": "MwC8bhpzg0W1",
        "outputId": "5cdcf161-f1a8-4264-9393-646c71b1eae6"
      },
      "execution_count": null,
      "outputs": [
        {
          "output_type": "display_data",
          "data": {
            "image/png": "[encoded data removed]",
            "text/plain": [
              "<Figure size 432x288 with 1 Axes>"
            ]
          },
          "metadata": {
            "needs_background": "light"
          }
        }
      ]
    },
    {
      "cell_type": "code",
      "source": [
        "print('Descriptive Stats: queens_summer')\n",
        "print(queens_summer['PPSQFT'].describe())"
      ],
      "metadata": {
        "colab": {
          "base_uri": "https://localhost:8080/"
        },
        "id": "BHosNV0Vg__B",
        "outputId": "3f1227ea-994f-4b99-d707-931839f33d6b"
      },
      "execution_count": null,
      "outputs": [
        {
          "output_type": "stream",
          "name": "stdout",
          "text": [
            "Descriptive Stats: queens_summer\n",
            "count    5321.000000\n",
            "mean      402.420130\n",
            "std       183.648163\n",
            "min         3.181818\n",
            "25%       275.000000\n",
            "50%       384.399551\n",
            "75%       513.157895\n",
            "max      1130.208333\n",
            "Name: PPSQFT, dtype: float64\n"
          ]
        }
      ]
    },
    {
      "cell_type": "code",
      "source": [
        "sns.histplot(data=queens_summer, kde=True, x='PPSQFT')\n",
        "plt.title('Frequency of queens_summer PPSQFT')\n",
        "plt.show()"
      ],
      "metadata": {
        "colab": {
          "base_uri": "https://localhost:8080/",
          "height": 294
        },
        "id": "E8EVjMZYhEcV",
        "outputId": "965a7661-ac6a-429f-ea39-5e9a3814d16e"
      },
      "execution_count": null,
      "outputs": [
        {
          "output_type": "display_data",
          "data": {
            "image/png": "[encoded data removed]",
            "text/plain": [
              "<Figure size 432x288 with 1 Axes>"
            ]
          },
          "metadata": {
            "needs_background": "light"
          }
        }
      ]
    },
    {
      "cell_type": "markdown",
      "source": [
        "Our samples look sufficient, let's move on to the t-test."
      ],
      "metadata": {
        "id": "CVqt091ihJ6S"
      }
    },
    {
      "cell_type": "code",
      "source": [
        "queens_winter_mean = queens_winter['PPSQFT'].mean()\n",
        "queens_summer_mean = queens_summer['PPSQFT'].mean()\n",
        "queens_mean_diff = queens_winter_mean-queens_summer_mean\n",
        "\n",
        "queens_z, queens_p = stats.ttest_ind(queens_winter['PPSQFT'], queens_summer['PPSQFT'])\n",
        "print('Sample Means: \\n queens_winter = {} \\n queens_summer = {}'.format(queens_winter_mean, queens_summer_mean))\n",
        "print('')\n",
        "print('Sample Mean Difference = {}'.format(queens_mean_diff))\n",
        "print('')\n",
        "print('Test Results: \\n z-stat = {} \\n p-value = {}'.format(queens_z, queens_p))"
      ],
      "metadata": {
        "colab": {
          "base_uri": "https://localhost:8080/"
        },
        "id": "MJGg0ErGhaPe",
        "outputId": "95b97b12-e80e-4994-9329-c7a7be754c7e"
      },
      "execution_count": null,
      "outputs": [
        {
          "output_type": "stream",
          "name": "stdout",
          "text": [
            "Sample Means: \n",
            " queens_winter = 396.32531817736697 \n",
            " queens_summer = 402.420129776218\n",
            "\n",
            "Sample Mean Difference = -6.094811598851038\n",
            "\n",
            "Test Results: \n",
            " z-stat = -1.745090357616848 \n",
            " p-value = 0.08099786183056616\n"
          ]
        }
      ]
    },
    {
      "cell_type": "markdown",
      "source": [
        "Our test results show a p-value of 0.08 which is greater than our α-level of 0.05. \n",
        "<br></br>\n",
        "We fail to reject the null hypothesis that the population means are equal. The sample mean difference of \\$-6.09/sqft is not statistically significant at the α = .05 level.\n",
        "<br></br>\n",
        "In other words, the mean PPSQFT of Queens properties sold between September-February does not differ from the mean PPSQFT of those sold between March-August. The sample mean difference cannot be shown to be representative of Queens properties as a whole."
      ],
      "metadata": {
        "id": "e887LMCUia8K"
      }
    },
    {
      "cell_type": "markdown",
      "source": [
        "\n",
        "### Staten Island\n"
      ],
      "metadata": {
        "id": "CqIelh-Ui_Ji"
      }
    },
    {
      "cell_type": "markdown",
      "source": [
        "**Question 5**: Is there a difference between the sale prices of Staten Island properties sold between September-February and those sold between March-August?\n",
        "\n",
        "> **H<sub>0</sub>** : The mean PPSQFT of Staten Island properties sold between September-February ***is equal*** to the mean PPSQFT of those sold between March-August.\n",
        "\n",
        "> **H<sub>a</sub>** : The mean PPSQFT of Staten Island properties sold between September-February ***is not equal*** to the mean PPSQFT of those sold between March-August.\n",
        "\n",
        "---\n",
        "\n",
        "We will start with the descriptive stats and distributions for our two samples.\n"
      ],
      "metadata": {
        "id": "_Gpvz1tVkVtz"
      }
    },
    {
      "cell_type": "code",
      "source": [
        "print('Descriptive Stats: staten_winter')\n",
        "print(staten_winter['PPSQFT'].describe())"
      ],
      "metadata": {
        "colab": {
          "base_uri": "https://localhost:8080/"
        },
        "id": "J8a3GivelCrq",
        "outputId": "5ad558dc-72f7-4b05-8b4a-63fe2bd0d155"
      },
      "execution_count": null,
      "outputs": [
        {
          "output_type": "stream",
          "name": "stdout",
          "text": [
            "Descriptive Stats: staten_winter\n",
            "count    2637.000000\n",
            "mean      311.021813\n",
            "std       122.729001\n",
            "min         4.081633\n",
            "25%       234.680574\n",
            "50%       302.325581\n",
            "75%       370.982987\n",
            "max      1070.652174\n",
            "Name: PPSQFT, dtype: float64\n"
          ]
        }
      ]
    },
    {
      "cell_type": "code",
      "source": [
        "sns.histplot(data=staten_winter, kde=True, x='PPSQFT')\n",
        "plt.title('Frequency of staten_winter PPSQFT')\n",
        "plt.show()"
      ],
      "metadata": {
        "colab": {
          "base_uri": "https://localhost:8080/",
          "height": 294
        },
        "id": "h-uU-dz1lJSh",
        "outputId": "02436df7-4ef0-4507-cc0f-8e1329305ac6"
      },
      "execution_count": null,
      "outputs": [
        {
          "output_type": "display_data",
          "data": {
            "image/png": "[encoded data removed]",
            "text/plain": [
              "<Figure size 432x288 with 1 Axes>"
            ]
          },
          "metadata": {
            "needs_background": "light"
          }
        }
      ]
    },
    {
      "cell_type": "code",
      "source": [
        "print('Descriptive Stats: staten_summer')\n",
        "print(staten_summer['PPSQFT'].describe())"
      ],
      "metadata": {
        "colab": {
          "base_uri": "https://localhost:8080/"
        },
        "id": "O-st4IXslQZn",
        "outputId": "018792ca-a619-4acc-9410-7d0924df76ed"
      },
      "execution_count": null,
      "outputs": [
        {
          "output_type": "stream",
          "name": "stdout",
          "text": [
            "Descriptive Stats: staten_summer\n",
            "count    2280.000000\n",
            "mean      331.070911\n",
            "std       128.568501\n",
            "min         3.345070\n",
            "25%       250.258621\n",
            "50%       322.005257\n",
            "75%       394.893251\n",
            "max      1041.666667\n",
            "Name: PPSQFT, dtype: float64\n"
          ]
        }
      ]
    },
    {
      "cell_type": "code",
      "source": [
        "sns.histplot(data=staten_summer, kde=True, x='PPSQFT')\n",
        "plt.title('Frequency of staten_summer PPSQFT')\n",
        "plt.show()"
      ],
      "metadata": {
        "colab": {
          "base_uri": "https://localhost:8080/",
          "height": 294
        },
        "id": "meVFfPZMlTti",
        "outputId": "7e40aff5-9b03-4b72-9646-ae707a753ffc"
      },
      "execution_count": null,
      "outputs": [
        {
          "output_type": "display_data",
          "data": {
            "image/png": "[encoded data removed]",
            "text/plain": [
              "<Figure size 432x288 with 1 Axes>"
            ]
          },
          "metadata": {
            "needs_background": "light"
          }
        }
      ]
    },
    {
      "cell_type": "markdown",
      "source": [
        "The distributions look sufficient, we can move on to the t-test."
      ],
      "metadata": {
        "id": "Llfe16zclbRN"
      }
    },
    {
      "cell_type": "code",
      "source": [
        "staten_winter_mean = staten_winter['PPSQFT'].mean()\n",
        "staten_summer_mean = staten_summer['PPSQFT'].mean()\n",
        "staten_mean_diff = staten_winter_mean-staten_summer_mean\n",
        "\n",
        "staten_z, staten_p = stats.ttest_ind(staten_winter['PPSQFT'], staten_summer['PPSQFT'])\n",
        "print('Sample Means: \\n staten_winter = {} \\n staten_summer = {}'.format(staten_winter_mean, staten_summer_mean))\n",
        "print('')\n",
        "print('Sample Mean Difference = {}'.format(staten_mean_diff))\n",
        "print('')\n",
        "print('Test Results: \\n z-stat = {} \\n p-value = {}'.format(staten_z, staten_p))"
      ],
      "metadata": {
        "colab": {
          "base_uri": "https://localhost:8080/"
        },
        "id": "jgWpo-oVlfXH",
        "outputId": "7b9d926e-0a76-4201-8b02-826e341f0281"
      },
      "execution_count": null,
      "outputs": [
        {
          "output_type": "stream",
          "name": "stdout",
          "text": [
            "Sample Means: \n",
            " staten_winter = 311.02181270679154 \n",
            " staten_summer = 331.07091116900307\n",
            "\n",
            "Sample Mean Difference = -20.049098462211532\n",
            "\n",
            "Test Results: \n",
            " z-stat = -5.587605012104811 \n",
            " p-value = 2.4263168481328495e-08\n"
          ]
        }
      ]
    },
    {
      "cell_type": "markdown",
      "source": [
        "The results show a p-value of 2.4×10<sup>-8</sup> which is significantly less than our α-level of 0.05. We are forced to reject the null hypothesis that the population PPSQFT means are equal. The sample mean difference of \\$-20.05/sqft is statistically significant at the α = .05 level. \n",
        "<br></br>\n",
        "The test concludes that the PPSQFT of Staten Island properties sold between March-August are higher, on average, than those sold between September-February. Let's check the confidence intervals to examine the magnitude of this effect."
      ],
      "metadata": {
        "id": "vYb2WeLVmbyt"
      }
    },
    {
      "cell_type": "code",
      "source": [
        "staten_winter_var = staten_winter['PPSQFT'].var()\n",
        "staten_summer_var = staten_summer['PPSQFT'].var()\n",
        "\n",
        "staten_std_err_diff = math.sqrt((staten_winter_var/staten_winter_n)+(staten_summer_var/staten_summer_n))\n",
        "staten_margin_of_err = 1.96 * staten_std_err_diff\n",
        "\n",
        "staten_ci_lower = staten_mean_diff - staten_margin_of_err\n",
        "staten_ci_upper = staten_mean_diff + staten_margin_of_err\n",
        "\n",
        "print('95% Confidence Interval for staten_mean_diff: \\n Lower Bound = {} \\n Upper Bound = {}'.format(staten_ci_lower, staten_ci_upper))"
      ],
      "metadata": {
        "colab": {
          "base_uri": "https://localhost:8080/"
        },
        "id": "iozV4hZbn6bZ",
        "outputId": "f2f05296-4ac6-471d-f72d-521a39157558"
      },
      "execution_count": null,
      "outputs": [
        {
          "output_type": "stream",
          "name": "stdout",
          "text": [
            "95% Confidence Interval for staten_mean_diff: \n",
            " Lower Bound = -27.10561203704735 \n",
            " Upper Bound = -12.992584887375713\n"
          ]
        }
      ]
    },
    {
      "cell_type": "markdown",
      "source": [
        "At the 95% confidence level, the population mean difference is between \\$-27.11/sqft and \\$12.99/sqft. \n",
        "<br></br>\n",
        "We can say with 95% certainty that Staten Island properties sold between March-August sell for \\$12.99 to \\$27.10 per square foot more, on average, than those sold between September-February."
      ],
      "metadata": {
        "id": "vOUGSeyboR1z"
      }
    },
    {
      "cell_type": "markdown",
      "source": [
        "\n",
        "### Summary\n"
      ],
      "metadata": {
        "id": "aykk1MxNrAe4"
      }
    },
    {
      "cell_type": "markdown",
      "source": [
        "| Borough | Sample Mean Diff | P-Value | Result | Population Mean Diff Confidence Interval |\n",
        "|:---:|:---:|:---:|:---:|:---:|\n",
        "| Manhattan | \\$17.13/sqft | 0.48 | Fail to reject null hypothesis| N/A |\n",
        "| Bronx | \\$11.73/sqft | 0.003 | Reject null hypothesis | \\$3.82/sqft - \\$19.64/sqft |\n",
        "| Brooklyn | \\$19.28/sqft | 0.0001 | Reject null hypothesis | \\$9.45/sqft - \\$29.10/sqft |\n",
        "| Queens | \\$6.09/sqft | 0.08 | Fail to reject null hypothesis | N/A |\n",
        "| Staten Island| \\$20.05/sqft | 2.4 × 10<sup>-8</sup> | Reject null hypothesis | \\$12.99/sqft - \\$27.11/sqft |"
      ],
      "metadata": {
        "id": "8Bc0isydrEW0"
      }
    },
    {
      "cell_type": "markdown",
      "source": [
        "\n",
        "## Insights & Recommendations\n"
      ],
      "metadata": {
        "id": "W3hBjovypR3O"
      }
    },
    {
      "cell_type": "markdown",
      "source": [
        "The purpose of this analysis was to gain insight into how property sale prices differ between typically colder months (September-February) and warmer months (March-August) within each of the five boroughs of New York City. It was my inital assumption that sale prices would be higher in the warmer months and lower in the colder months. \n",
        "<br></br>\n",
        "The results of our hypothesis tests have shown this to be true in the Bronx, Brooklyn, and Staten Island; However, no such effect was found for property sales in Manhattan or Queens. It's difficult to speculate as to the reason why sale prices would increase during warmer months in only three of the boroughs. Conducting a similar analysis spanning multiple years could shed some light on whether this trend is indicative of just the 2016-17 year, or if the pattern holds over time. \n",
        "<br></br>\n",
        "What we can say is that for property in the Bronx, Brooklyn, and Staten Island, sale prices are higher during the months of March-August than the rest of the year. This means that if you are looking to sell property, look to sell in the Spring or Summer, and if you are looking to buy property, try to buy in the Fall or Winter. In the Bronx properties could sell for nearly \\$20 per square foot higher in the Spring or Summer; In Brooklyn, nearly \\$30 per square foot higher; And in Staten Island, over \\$27 per square foot higher. Considering the average area of all the properties in this data set is over 3,500sqft the difference in sale prices can reach over \\$100,000 depending on the time of year the sale takes palce.  \n",
        "<br></br>\n",
        "To improve on the insights gained from this research, I recommend similar analyses be conducted on data sets that span multiple years to see if the patterns identified here are consistent from year-to-year. It would also be worth looking at differences in sale prices from month-to-month to get a more detailed picture of the months where sale prices increase."
      ],
      "metadata": {
        "id": "ow6Vz-ENpUmn"
      }
    }
  ]
}